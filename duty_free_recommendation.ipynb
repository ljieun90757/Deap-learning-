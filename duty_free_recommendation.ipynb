{
 "cells": [
  {
   "cell_type": "code",
   "execution_count": 235,
   "metadata": {},
   "outputs": [
    {
     "name": "stderr",
     "output_type": "stream",
     "text": [
      "C:\\ProgramData\\Anaconda3\\lib\\site-packages\\IPython\\core\\interactiveshell.py:3063: DtypeWarning: Columns (2,7) have mixed types.Specify dtype option on import or set low_memory=False.\n",
      "  interactivity=interactivity, compiler=compiler, result=result)\n"
     ]
    }
   ],
   "source": [
    "import pandas as pd \n",
    "import numpy as np \n",
    "df = pd.read_csv('df_log_201912_v1.csv')"
   ]
  },
  {
   "cell_type": "code",
   "execution_count": 3,
   "metadata": {},
   "outputs": [],
   "source": [
    "df2 = pd.read_csv('df_log_201912_v2.csv')"
   ]
  },
  {
   "cell_type": "code",
   "execution_count": 4,
   "metadata": {},
   "outputs": [
    {
     "data": {
      "text/html": [
       "<div>\n",
       "<style scoped>\n",
       "    .dataframe tbody tr th:only-of-type {\n",
       "        vertical-align: middle;\n",
       "    }\n",
       "\n",
       "    .dataframe tbody tr th {\n",
       "        vertical-align: top;\n",
       "    }\n",
       "\n",
       "    .dataframe thead th {\n",
       "        text-align: right;\n",
       "    }\n",
       "</style>\n",
       "<table border=\"1\" class=\"dataframe\">\n",
       "  <thead>\n",
       "    <tr style=\"text-align: right;\">\n",
       "      <th></th>\n",
       "      <th>Unnamed: 0</th>\n",
       "      <th>DATE</th>\n",
       "      <th>SESSION_ID</th>\n",
       "      <th>UID</th>\n",
       "      <th>SESSION_STARTTIME</th>\n",
       "      <th>VIEW_STARTTIME</th>\n",
       "      <th>PAGE_PATH</th>\n",
       "      <th>PRODUCT_NAME</th>\n",
       "      <th>PRORUCT_PRDNO</th>\n",
       "      <th>PRORUCT_CATEGORY_NO</th>\n",
       "      <th>PRORUCT_BRAND_NO</th>\n",
       "    </tr>\n",
       "  </thead>\n",
       "  <tbody>\n",
       "    <tr>\n",
       "      <th>0</th>\n",
       "      <td>0</td>\n",
       "      <td>20191201</td>\n",
       "      <td>211463454.1545391457.1575127879</td>\n",
       "      <td>36201</td>\n",
       "      <td>2019-12-01 00:31:19</td>\n",
       "      <td>2019-12-01 00:40:44</td>\n",
       "      <td>/kr/product/productDetail?prdNo=20000426021</td>\n",
       "      <td>랑콤 압솔뤼 로즈 필링 드롭</td>\n",
       "      <td>20000426021</td>\n",
       "      <td>10000002/100000005/1000000116</td>\n",
       "      <td>10326</td>\n",
       "    </tr>\n",
       "    <tr>\n",
       "      <th>1</th>\n",
       "      <td>1</td>\n",
       "      <td>20191201</td>\n",
       "      <td>211463454.1545391457.1575127879</td>\n",
       "      <td>36201</td>\n",
       "      <td>2019-12-01 00:31:19</td>\n",
       "      <td>2019-12-01 00:44:25</td>\n",
       "      <td>/kr/product/productDetail?prdNo=20000409796</td>\n",
       "      <td>SLG</td>\n",
       "      <td>20000409796</td>\n",
       "      <td>10000010/100000046/1000000577</td>\n",
       "      <td>10142</td>\n",
       "    </tr>\n",
       "    <tr>\n",
       "      <th>2</th>\n",
       "      <td>2</td>\n",
       "      <td>20191201</td>\n",
       "      <td>211463454.1545391457.1575127879</td>\n",
       "      <td>36201</td>\n",
       "      <td>2019-12-01 00:31:19</td>\n",
       "      <td>2019-12-01 00:46:56</td>\n",
       "      <td>/kr/product/productDetail?prdNo=20000493587</td>\n",
       "      <td>[면세전용] 뉴 클라리소닉 미아 스마트 핑크</td>\n",
       "      <td>20000493587</td>\n",
       "      <td>10000004/100000017/1000000306</td>\n",
       "      <td>17993</td>\n",
       "    </tr>\n",
       "  </tbody>\n",
       "</table>\n",
       "</div>"
      ],
      "text/plain": [
       "   Unnamed: 0      DATE                       SESSION_ID    UID  \\\n",
       "0           0  20191201  211463454.1545391457.1575127879  36201   \n",
       "1           1  20191201  211463454.1545391457.1575127879  36201   \n",
       "2           2  20191201  211463454.1545391457.1575127879  36201   \n",
       "\n",
       "     SESSION_STARTTIME       VIEW_STARTTIME  \\\n",
       "0  2019-12-01 00:31:19  2019-12-01 00:40:44   \n",
       "1  2019-12-01 00:31:19  2019-12-01 00:44:25   \n",
       "2  2019-12-01 00:31:19  2019-12-01 00:46:56   \n",
       "\n",
       "                                     PAGE_PATH              PRODUCT_NAME  \\\n",
       "0  /kr/product/productDetail?prdNo=20000426021           랑콤 압솔뤼 로즈 필링 드롭   \n",
       "1  /kr/product/productDetail?prdNo=20000409796                       SLG   \n",
       "2  /kr/product/productDetail?prdNo=20000493587  [면세전용] 뉴 클라리소닉 미아 스마트 핑크   \n",
       "\n",
       "  PRORUCT_PRDNO            PRORUCT_CATEGORY_NO PRORUCT_BRAND_NO  \n",
       "0   20000426021  10000002/100000005/1000000116            10326  \n",
       "1   20000409796  10000010/100000046/1000000577            10142  \n",
       "2   20000493587  10000004/100000017/1000000306            17993  "
      ]
     },
     "execution_count": 4,
     "metadata": {},
     "output_type": "execute_result"
    }
   ],
   "source": [
    "df.head(3)"
   ]
  },
  {
   "cell_type": "code",
   "execution_count": 5,
   "metadata": {},
   "outputs": [],
   "source": [
    "df = pd.concat([df, df2])"
   ]
  },
  {
   "cell_type": "code",
   "execution_count": 8,
   "metadata": {},
   "outputs": [
    {
     "data": {
      "text/html": [
       "<div>\n",
       "<style scoped>\n",
       "    .dataframe tbody tr th:only-of-type {\n",
       "        vertical-align: middle;\n",
       "    }\n",
       "\n",
       "    .dataframe tbody tr th {\n",
       "        vertical-align: top;\n",
       "    }\n",
       "\n",
       "    .dataframe thead th {\n",
       "        text-align: right;\n",
       "    }\n",
       "</style>\n",
       "<table border=\"1\" class=\"dataframe\">\n",
       "  <thead>\n",
       "    <tr style=\"text-align: right;\">\n",
       "      <th></th>\n",
       "      <th>Unnamed: 0</th>\n",
       "      <th>DATE</th>\n",
       "      <th>SESSION_ID</th>\n",
       "      <th>UID</th>\n",
       "      <th>SESSION_STARTTIME</th>\n",
       "      <th>VIEW_STARTTIME</th>\n",
       "      <th>PAGE_PATH</th>\n",
       "      <th>PRODUCT_NAME</th>\n",
       "      <th>PRORUCT_PRDNO</th>\n",
       "      <th>PRORUCT_CATEGORY_NO</th>\n",
       "      <th>PRORUCT_BRAND_NO</th>\n",
       "    </tr>\n",
       "  </thead>\n",
       "  <tbody>\n",
       "    <tr>\n",
       "      <th>0</th>\n",
       "      <td>0</td>\n",
       "      <td>20191201</td>\n",
       "      <td>211463454.1545391457.1575127879</td>\n",
       "      <td>36201</td>\n",
       "      <td>2019-12-01 00:31:19</td>\n",
       "      <td>2019-12-01 00:40:44</td>\n",
       "      <td>/kr/product/productDetail?prdNo=20000426021</td>\n",
       "      <td>랑콤 압솔뤼 로즈 필링 드롭</td>\n",
       "      <td>20000426021</td>\n",
       "      <td>10000002/100000005/1000000116</td>\n",
       "      <td>10326</td>\n",
       "    </tr>\n",
       "    <tr>\n",
       "      <th>1</th>\n",
       "      <td>1</td>\n",
       "      <td>20191201</td>\n",
       "      <td>211463454.1545391457.1575127879</td>\n",
       "      <td>36201</td>\n",
       "      <td>2019-12-01 00:31:19</td>\n",
       "      <td>2019-12-01 00:44:25</td>\n",
       "      <td>/kr/product/productDetail?prdNo=20000409796</td>\n",
       "      <td>SLG</td>\n",
       "      <td>20000409796</td>\n",
       "      <td>10000010/100000046/1000000577</td>\n",
       "      <td>10142</td>\n",
       "    </tr>\n",
       "    <tr>\n",
       "      <th>2</th>\n",
       "      <td>2</td>\n",
       "      <td>20191201</td>\n",
       "      <td>211463454.1545391457.1575127879</td>\n",
       "      <td>36201</td>\n",
       "      <td>2019-12-01 00:31:19</td>\n",
       "      <td>2019-12-01 00:46:56</td>\n",
       "      <td>/kr/product/productDetail?prdNo=20000493587</td>\n",
       "      <td>[면세전용] 뉴 클라리소닉 미아 스마트 핑크</td>\n",
       "      <td>20000493587</td>\n",
       "      <td>10000004/100000017/1000000306</td>\n",
       "      <td>17993</td>\n",
       "    </tr>\n",
       "  </tbody>\n",
       "</table>\n",
       "</div>"
      ],
      "text/plain": [
       "   Unnamed: 0      DATE                       SESSION_ID    UID  \\\n",
       "0           0  20191201  211463454.1545391457.1575127879  36201   \n",
       "1           1  20191201  211463454.1545391457.1575127879  36201   \n",
       "2           2  20191201  211463454.1545391457.1575127879  36201   \n",
       "\n",
       "     SESSION_STARTTIME       VIEW_STARTTIME  \\\n",
       "0  2019-12-01 00:31:19  2019-12-01 00:40:44   \n",
       "1  2019-12-01 00:31:19  2019-12-01 00:44:25   \n",
       "2  2019-12-01 00:31:19  2019-12-01 00:46:56   \n",
       "\n",
       "                                     PAGE_PATH              PRODUCT_NAME  \\\n",
       "0  /kr/product/productDetail?prdNo=20000426021           랑콤 압솔뤼 로즈 필링 드롭   \n",
       "1  /kr/product/productDetail?prdNo=20000409796                       SLG   \n",
       "2  /kr/product/productDetail?prdNo=20000493587  [면세전용] 뉴 클라리소닉 미아 스마트 핑크   \n",
       "\n",
       "  PRORUCT_PRDNO            PRORUCT_CATEGORY_NO PRORUCT_BRAND_NO  \n",
       "0   20000426021  10000002/100000005/1000000116            10326  \n",
       "1   20000409796  10000010/100000046/1000000577            10142  \n",
       "2   20000493587  10000004/100000017/1000000306            17993  "
      ]
     },
     "execution_count": 8,
     "metadata": {},
     "output_type": "execute_result"
    }
   ],
   "source": [
    "df.head(3)"
   ]
  },
  {
   "cell_type": "code",
   "execution_count": 10,
   "metadata": {},
   "outputs": [],
   "source": [
    "df.drop('Unnamed: 0',axis =1 , inplace=True)"
   ]
  },
  {
   "cell_type": "code",
   "execution_count": 14,
   "metadata": {},
   "outputs": [],
   "source": [
    "df.to_csv('df_log_201912_v1.csv', index=False)"
   ]
  },
  {
   "cell_type": "code",
   "execution_count": 15,
   "metadata": {},
   "outputs": [
    {
     "data": {
      "text/html": [
       "<div>\n",
       "<style scoped>\n",
       "    .dataframe tbody tr th:only-of-type {\n",
       "        vertical-align: middle;\n",
       "    }\n",
       "\n",
       "    .dataframe tbody tr th {\n",
       "        vertical-align: top;\n",
       "    }\n",
       "\n",
       "    .dataframe thead th {\n",
       "        text-align: right;\n",
       "    }\n",
       "</style>\n",
       "<table border=\"1\" class=\"dataframe\">\n",
       "  <thead>\n",
       "    <tr style=\"text-align: right;\">\n",
       "      <th></th>\n",
       "      <th>DATE</th>\n",
       "      <th>SESSION_ID</th>\n",
       "      <th>UID</th>\n",
       "      <th>SESSION_STARTTIME</th>\n",
       "      <th>VIEW_STARTTIME</th>\n",
       "      <th>PAGE_PATH</th>\n",
       "      <th>PRODUCT_NAME</th>\n",
       "      <th>PRORUCT_PRDNO</th>\n",
       "      <th>PRORUCT_CATEGORY_NO</th>\n",
       "      <th>PRORUCT_BRAND_NO</th>\n",
       "    </tr>\n",
       "  </thead>\n",
       "  <tbody>\n",
       "    <tr>\n",
       "      <th>0</th>\n",
       "      <td>20191201</td>\n",
       "      <td>211463454.1545391457.1575127879</td>\n",
       "      <td>36201</td>\n",
       "      <td>2019-12-01 00:31:19</td>\n",
       "      <td>2019-12-01 00:40:44</td>\n",
       "      <td>/kr/product/productDetail?prdNo=20000426021</td>\n",
       "      <td>랑콤 압솔뤼 로즈 필링 드롭</td>\n",
       "      <td>20000426021</td>\n",
       "      <td>10000002/100000005/1000000116</td>\n",
       "      <td>10326</td>\n",
       "    </tr>\n",
       "    <tr>\n",
       "      <th>1</th>\n",
       "      <td>20191201</td>\n",
       "      <td>211463454.1545391457.1575127879</td>\n",
       "      <td>36201</td>\n",
       "      <td>2019-12-01 00:31:19</td>\n",
       "      <td>2019-12-01 00:44:25</td>\n",
       "      <td>/kr/product/productDetail?prdNo=20000409796</td>\n",
       "      <td>SLG</td>\n",
       "      <td>20000409796</td>\n",
       "      <td>10000010/100000046/1000000577</td>\n",
       "      <td>10142</td>\n",
       "    </tr>\n",
       "    <tr>\n",
       "      <th>2</th>\n",
       "      <td>20191201</td>\n",
       "      <td>211463454.1545391457.1575127879</td>\n",
       "      <td>36201</td>\n",
       "      <td>2019-12-01 00:31:19</td>\n",
       "      <td>2019-12-01 00:46:56</td>\n",
       "      <td>/kr/product/productDetail?prdNo=20000493587</td>\n",
       "      <td>[면세전용] 뉴 클라리소닉 미아 스마트 핑크</td>\n",
       "      <td>20000493587</td>\n",
       "      <td>10000004/100000017/1000000306</td>\n",
       "      <td>17993</td>\n",
       "    </tr>\n",
       "  </tbody>\n",
       "</table>\n",
       "</div>"
      ],
      "text/plain": [
       "       DATE                       SESSION_ID    UID    SESSION_STARTTIME  \\\n",
       "0  20191201  211463454.1545391457.1575127879  36201  2019-12-01 00:31:19   \n",
       "1  20191201  211463454.1545391457.1575127879  36201  2019-12-01 00:31:19   \n",
       "2  20191201  211463454.1545391457.1575127879  36201  2019-12-01 00:31:19   \n",
       "\n",
       "        VIEW_STARTTIME                                    PAGE_PATH  \\\n",
       "0  2019-12-01 00:40:44  /kr/product/productDetail?prdNo=20000426021   \n",
       "1  2019-12-01 00:44:25  /kr/product/productDetail?prdNo=20000409796   \n",
       "2  2019-12-01 00:46:56  /kr/product/productDetail?prdNo=20000493587   \n",
       "\n",
       "               PRODUCT_NAME PRORUCT_PRDNO            PRORUCT_CATEGORY_NO  \\\n",
       "0           랑콤 압솔뤼 로즈 필링 드롭   20000426021  10000002/100000005/1000000116   \n",
       "1                       SLG   20000409796  10000010/100000046/1000000577   \n",
       "2  [면세전용] 뉴 클라리소닉 미아 스마트 핑크   20000493587  10000004/100000017/1000000306   \n",
       "\n",
       "  PRORUCT_BRAND_NO  \n",
       "0            10326  \n",
       "1            10142  \n",
       "2            17993  "
      ]
     },
     "execution_count": 15,
     "metadata": {},
     "output_type": "execute_result"
    }
   ],
   "source": [
    "df.head(3)"
   ]
  },
  {
   "cell_type": "code",
   "execution_count": 18,
   "metadata": {},
   "outputs": [],
   "source": [
    "cate = df['PRORUCT_CATEGORY_NO'].str.split('/', expand=True)"
   ]
  },
  {
   "cell_type": "code",
   "execution_count": 21,
   "metadata": {},
   "outputs": [],
   "source": [
    "cate.columns = ['cate_1','cate_2','cate_3']"
   ]
  },
  {
   "cell_type": "code",
   "execution_count": 22,
   "metadata": {},
   "outputs": [
    {
     "data": {
      "text/html": [
       "<div>\n",
       "<style scoped>\n",
       "    .dataframe tbody tr th:only-of-type {\n",
       "        vertical-align: middle;\n",
       "    }\n",
       "\n",
       "    .dataframe tbody tr th {\n",
       "        vertical-align: top;\n",
       "    }\n",
       "\n",
       "    .dataframe thead th {\n",
       "        text-align: right;\n",
       "    }\n",
       "</style>\n",
       "<table border=\"1\" class=\"dataframe\">\n",
       "  <thead>\n",
       "    <tr style=\"text-align: right;\">\n",
       "      <th></th>\n",
       "      <th>cate_1</th>\n",
       "      <th>cate_2</th>\n",
       "      <th>cate_3</th>\n",
       "    </tr>\n",
       "  </thead>\n",
       "  <tbody>\n",
       "    <tr>\n",
       "      <th>0</th>\n",
       "      <td>10000002</td>\n",
       "      <td>100000005</td>\n",
       "      <td>1000000116</td>\n",
       "    </tr>\n",
       "    <tr>\n",
       "      <th>1</th>\n",
       "      <td>10000010</td>\n",
       "      <td>100000046</td>\n",
       "      <td>1000000577</td>\n",
       "    </tr>\n",
       "    <tr>\n",
       "      <th>2</th>\n",
       "      <td>10000004</td>\n",
       "      <td>100000017</td>\n",
       "      <td>1000000306</td>\n",
       "    </tr>\n",
       "  </tbody>\n",
       "</table>\n",
       "</div>"
      ],
      "text/plain": [
       "     cate_1     cate_2      cate_3\n",
       "0  10000002  100000005  1000000116\n",
       "1  10000010  100000046  1000000577\n",
       "2  10000004  100000017  1000000306"
      ]
     },
     "execution_count": 22,
     "metadata": {},
     "output_type": "execute_result"
    }
   ],
   "source": [
    "cate.head(3)"
   ]
  },
  {
   "cell_type": "code",
   "execution_count": 23,
   "metadata": {},
   "outputs": [],
   "source": [
    "df = pd.concat([df,cate], axis=1)"
   ]
  },
  {
   "cell_type": "code",
   "execution_count": 24,
   "metadata": {},
   "outputs": [
    {
     "data": {
      "text/html": [
       "<div>\n",
       "<style scoped>\n",
       "    .dataframe tbody tr th:only-of-type {\n",
       "        vertical-align: middle;\n",
       "    }\n",
       "\n",
       "    .dataframe tbody tr th {\n",
       "        vertical-align: top;\n",
       "    }\n",
       "\n",
       "    .dataframe thead th {\n",
       "        text-align: right;\n",
       "    }\n",
       "</style>\n",
       "<table border=\"1\" class=\"dataframe\">\n",
       "  <thead>\n",
       "    <tr style=\"text-align: right;\">\n",
       "      <th></th>\n",
       "      <th>DATE</th>\n",
       "      <th>SESSION_ID</th>\n",
       "      <th>UID</th>\n",
       "      <th>SESSION_STARTTIME</th>\n",
       "      <th>VIEW_STARTTIME</th>\n",
       "      <th>PAGE_PATH</th>\n",
       "      <th>PRODUCT_NAME</th>\n",
       "      <th>PRORUCT_PRDNO</th>\n",
       "      <th>PRORUCT_CATEGORY_NO</th>\n",
       "      <th>PRORUCT_BRAND_NO</th>\n",
       "      <th>cate_1</th>\n",
       "      <th>cate_2</th>\n",
       "      <th>cate_3</th>\n",
       "    </tr>\n",
       "  </thead>\n",
       "  <tbody>\n",
       "    <tr>\n",
       "      <th>0</th>\n",
       "      <td>20191201</td>\n",
       "      <td>211463454.1545391457.1575127879</td>\n",
       "      <td>36201</td>\n",
       "      <td>2019-12-01 00:31:19</td>\n",
       "      <td>2019-12-01 00:40:44</td>\n",
       "      <td>/kr/product/productDetail?prdNo=20000426021</td>\n",
       "      <td>랑콤 압솔뤼 로즈 필링 드롭</td>\n",
       "      <td>20000426021</td>\n",
       "      <td>10000002/100000005/1000000116</td>\n",
       "      <td>10326</td>\n",
       "      <td>10000002</td>\n",
       "      <td>100000005</td>\n",
       "      <td>1000000116</td>\n",
       "    </tr>\n",
       "    <tr>\n",
       "      <th>1</th>\n",
       "      <td>20191201</td>\n",
       "      <td>211463454.1545391457.1575127879</td>\n",
       "      <td>36201</td>\n",
       "      <td>2019-12-01 00:31:19</td>\n",
       "      <td>2019-12-01 00:44:25</td>\n",
       "      <td>/kr/product/productDetail?prdNo=20000409796</td>\n",
       "      <td>SLG</td>\n",
       "      <td>20000409796</td>\n",
       "      <td>10000010/100000046/1000000577</td>\n",
       "      <td>10142</td>\n",
       "      <td>10000010</td>\n",
       "      <td>100000046</td>\n",
       "      <td>1000000577</td>\n",
       "    </tr>\n",
       "    <tr>\n",
       "      <th>2</th>\n",
       "      <td>20191201</td>\n",
       "      <td>211463454.1545391457.1575127879</td>\n",
       "      <td>36201</td>\n",
       "      <td>2019-12-01 00:31:19</td>\n",
       "      <td>2019-12-01 00:46:56</td>\n",
       "      <td>/kr/product/productDetail?prdNo=20000493587</td>\n",
       "      <td>[면세전용] 뉴 클라리소닉 미아 스마트 핑크</td>\n",
       "      <td>20000493587</td>\n",
       "      <td>10000004/100000017/1000000306</td>\n",
       "      <td>17993</td>\n",
       "      <td>10000004</td>\n",
       "      <td>100000017</td>\n",
       "      <td>1000000306</td>\n",
       "    </tr>\n",
       "  </tbody>\n",
       "</table>\n",
       "</div>"
      ],
      "text/plain": [
       "       DATE                       SESSION_ID    UID    SESSION_STARTTIME  \\\n",
       "0  20191201  211463454.1545391457.1575127879  36201  2019-12-01 00:31:19   \n",
       "1  20191201  211463454.1545391457.1575127879  36201  2019-12-01 00:31:19   \n",
       "2  20191201  211463454.1545391457.1575127879  36201  2019-12-01 00:31:19   \n",
       "\n",
       "        VIEW_STARTTIME                                    PAGE_PATH  \\\n",
       "0  2019-12-01 00:40:44  /kr/product/productDetail?prdNo=20000426021   \n",
       "1  2019-12-01 00:44:25  /kr/product/productDetail?prdNo=20000409796   \n",
       "2  2019-12-01 00:46:56  /kr/product/productDetail?prdNo=20000493587   \n",
       "\n",
       "               PRODUCT_NAME PRORUCT_PRDNO            PRORUCT_CATEGORY_NO  \\\n",
       "0           랑콤 압솔뤼 로즈 필링 드롭   20000426021  10000002/100000005/1000000116   \n",
       "1                       SLG   20000409796  10000010/100000046/1000000577   \n",
       "2  [면세전용] 뉴 클라리소닉 미아 스마트 핑크   20000493587  10000004/100000017/1000000306   \n",
       "\n",
       "  PRORUCT_BRAND_NO    cate_1     cate_2      cate_3  \n",
       "0            10326  10000002  100000005  1000000116  \n",
       "1            10142  10000010  100000046  1000000577  \n",
       "2            17993  10000004  100000017  1000000306  "
      ]
     },
     "execution_count": 24,
     "metadata": {},
     "output_type": "execute_result"
    }
   ],
   "source": [
    "df.head(3)"
   ]
  },
  {
   "cell_type": "code",
   "execution_count": 25,
   "metadata": {},
   "outputs": [],
   "source": [
    "df.drop('PRORUCT_CATEGORY_NO',axis =1 , inplace=True)"
   ]
  },
  {
   "cell_type": "code",
   "execution_count": 26,
   "metadata": {},
   "outputs": [],
   "source": [
    "df.to_csv('df_log_201912_v1.csv', index=False)"
   ]
  },
  {
   "cell_type": "code",
   "execution_count": 31,
   "metadata": {},
   "outputs": [
    {
     "name": "stdout",
     "output_type": "stream",
     "text": [
      "<class 'pandas.core.frame.DataFrame'>\n",
      "Int64Index: 7865245 entries, 0 to 4124399\n",
      "Data columns (total 12 columns):\n",
      " #   Column             Dtype \n",
      "---  ------             ----- \n",
      " 0   DATE               int64 \n",
      " 1   SESSION_ID         object\n",
      " 2   UID                object\n",
      " 3   SESSION_STARTTIME  object\n",
      " 4   VIEW_STARTTIME     object\n",
      " 5   PAGE_PATH          object\n",
      " 6   PRODUCT_NAME       object\n",
      " 7   PRORUCT_PRDNO      object\n",
      " 8   PRORUCT_BRAND_NO   object\n",
      " 9   cate_1             object\n",
      " 10  cate_2             object\n",
      " 11  cate_3             object\n",
      "dtypes: int64(1), object(11)\n",
      "memory usage: 780.1+ MB\n"
     ]
    }
   ],
   "source": [
    "df.info()"
   ]
  },
  {
   "cell_type": "code",
   "execution_count": 29,
   "metadata": {},
   "outputs": [],
   "source": [
    "# 데이터 정보"
   ]
  },
  {
   "cell_type": "code",
   "execution_count": 27,
   "metadata": {},
   "outputs": [],
   "source": [
    "df_smry = pd.DataFrame()\n",
    "df_smry[\"size\"] = df.apply(lambda x : x.size)\n",
    "df_smry[\"idt_rat\"] = df.apply(lambda x: x[(x!='N')].value_counts().max()/x.size)\n",
    "df_smry[\"idt_uniq_cnt\"] = df.apply(lambda x: len(x[(x!='N')].value_counts()))\n",
    "df_smry[\"idt_mode\"] = df.apply(lambda x : x[x!= 'N'].value_counts().index[0] if len(x[x != 'N'].value_counts())>0 else 'null')"
   ]
  },
  {
   "cell_type": "code",
   "execution_count": 28,
   "metadata": {},
   "outputs": [
    {
     "data": {
      "text/html": [
       "<div>\n",
       "<style scoped>\n",
       "    .dataframe tbody tr th:only-of-type {\n",
       "        vertical-align: middle;\n",
       "    }\n",
       "\n",
       "    .dataframe tbody tr th {\n",
       "        vertical-align: top;\n",
       "    }\n",
       "\n",
       "    .dataframe thead th {\n",
       "        text-align: right;\n",
       "    }\n",
       "</style>\n",
       "<table border=\"1\" class=\"dataframe\">\n",
       "  <thead>\n",
       "    <tr style=\"text-align: right;\">\n",
       "      <th></th>\n",
       "      <th>size</th>\n",
       "      <th>idt_rat</th>\n",
       "      <th>idt_uniq_cnt</th>\n",
       "      <th>idt_mode</th>\n",
       "    </tr>\n",
       "  </thead>\n",
       "  <tbody>\n",
       "    <tr>\n",
       "      <th>DATE</th>\n",
       "      <td>7865245</td>\n",
       "      <td>0.037256</td>\n",
       "      <td>31</td>\n",
       "      <td>20191222</td>\n",
       "    </tr>\n",
       "    <tr>\n",
       "      <th>SESSION_ID</th>\n",
       "      <td>7865245</td>\n",
       "      <td>0.000032</td>\n",
       "      <td>1557259</td>\n",
       "      <td>824286396.1575303414.1576209124</td>\n",
       "    </tr>\n",
       "    <tr>\n",
       "      <th>UID</th>\n",
       "      <td>7865245</td>\n",
       "      <td>0.105335</td>\n",
       "      <td>261495</td>\n",
       "      <td>35905162</td>\n",
       "    </tr>\n",
       "    <tr>\n",
       "      <th>SESSION_STARTTIME</th>\n",
       "      <td>7865245</td>\n",
       "      <td>0.000045</td>\n",
       "      <td>1113312</td>\n",
       "      <td>2019-12-24 00:00:00</td>\n",
       "    </tr>\n",
       "    <tr>\n",
       "      <th>VIEW_STARTTIME</th>\n",
       "      <td>7865245</td>\n",
       "      <td>0.000003</td>\n",
       "      <td>2409369</td>\n",
       "      <td>2019-12-22 23:10:26</td>\n",
       "    </tr>\n",
       "    <tr>\n",
       "      <th>PAGE_PATH</th>\n",
       "      <td>7865245</td>\n",
       "      <td>0.001705</td>\n",
       "      <td>840953</td>\n",
       "      <td>/kr/product/productDetail?prdNo=10001836395</td>\n",
       "    </tr>\n",
       "    <tr>\n",
       "      <th>PRODUCT_NAME</th>\n",
       "      <td>7865245</td>\n",
       "      <td>0.004036</td>\n",
       "      <td>87947</td>\n",
       "      <td>SUPERSTAR</td>\n",
       "    </tr>\n",
       "    <tr>\n",
       "      <th>PRORUCT_PRDNO</th>\n",
       "      <td>7865245</td>\n",
       "      <td>0.002714</td>\n",
       "      <td>165323</td>\n",
       "      <td>20000625219</td>\n",
       "    </tr>\n",
       "    <tr>\n",
       "      <th>PRORUCT_BRAND_NO</th>\n",
       "      <td>7865245</td>\n",
       "      <td>0.014862</td>\n",
       "      <td>1351</td>\n",
       "      <td>10580</td>\n",
       "    </tr>\n",
       "    <tr>\n",
       "      <th>cate_1</th>\n",
       "      <td>7865245</td>\n",
       "      <td>0.135281</td>\n",
       "      <td>33</td>\n",
       "      <td>10000004</td>\n",
       "    </tr>\n",
       "    <tr>\n",
       "      <th>cate_2</th>\n",
       "      <td>7865245</td>\n",
       "      <td>0.085468</td>\n",
       "      <td>173</td>\n",
       "      <td>100000015</td>\n",
       "    </tr>\n",
       "    <tr>\n",
       "      <th>cate_3</th>\n",
       "      <td>7865245</td>\n",
       "      <td>0.028926</td>\n",
       "      <td>1221</td>\n",
       "      <td>1000000277</td>\n",
       "    </tr>\n",
       "  </tbody>\n",
       "</table>\n",
       "</div>"
      ],
      "text/plain": [
       "                      size   idt_rat  idt_uniq_cnt  \\\n",
       "DATE               7865245  0.037256            31   \n",
       "SESSION_ID         7865245  0.000032       1557259   \n",
       "UID                7865245  0.105335        261495   \n",
       "SESSION_STARTTIME  7865245  0.000045       1113312   \n",
       "VIEW_STARTTIME     7865245  0.000003       2409369   \n",
       "PAGE_PATH          7865245  0.001705        840953   \n",
       "PRODUCT_NAME       7865245  0.004036         87947   \n",
       "PRORUCT_PRDNO      7865245  0.002714        165323   \n",
       "PRORUCT_BRAND_NO   7865245  0.014862          1351   \n",
       "cate_1             7865245  0.135281            33   \n",
       "cate_2             7865245  0.085468           173   \n",
       "cate_3             7865245  0.028926          1221   \n",
       "\n",
       "                                                      idt_mode  \n",
       "DATE                                                  20191222  \n",
       "SESSION_ID                     824286396.1575303414.1576209124  \n",
       "UID                                                   35905162  \n",
       "SESSION_STARTTIME                          2019-12-24 00:00:00  \n",
       "VIEW_STARTTIME                             2019-12-22 23:10:26  \n",
       "PAGE_PATH          /kr/product/productDetail?prdNo=10001836395  \n",
       "PRODUCT_NAME                                         SUPERSTAR  \n",
       "PRORUCT_PRDNO                                      20000625219  \n",
       "PRORUCT_BRAND_NO                                         10580  \n",
       "cate_1                                                10000004  \n",
       "cate_2                                               100000015  \n",
       "cate_3                                              1000000277  "
      ]
     },
     "execution_count": 28,
     "metadata": {},
     "output_type": "execute_result"
    }
   ],
   "source": [
    "df_smry"
   ]
  },
  {
   "cell_type": "code",
   "execution_count": 35,
   "metadata": {},
   "outputs": [],
   "source": [
    "# 유저당 세션수 "
   ]
  },
  {
   "cell_type": "code",
   "execution_count": 70,
   "metadata": {},
   "outputs": [
    {
     "data": {
      "text/plain": [
       "3.066899940725444"
      ]
     },
     "execution_count": 70,
     "metadata": {},
     "output_type": "execute_result"
    }
   ],
   "source": [
    "df[df['UID'] != 'N'].groupby(['UID'])['SESSION_ID'].nunique().mean()"
   ]
  },
  {
   "cell_type": "code",
   "execution_count": 69,
   "metadata": {},
   "outputs": [
    {
     "data": {
      "text/plain": [
       "<matplotlib.axes._subplots.AxesSubplot at 0x275fa277e80>"
      ]
     },
     "execution_count": 69,
     "metadata": {},
     "output_type": "execute_result"
    },
    {
     "data": {
      "image/png": "[encoded data removed]",
      "text/plain": [
       "<Figure size 432x288 with 1 Axes>"
      ]
     },
     "metadata": {
      "needs_background": "light"
     },
     "output_type": "display_data"
    }
   ],
   "source": [
    "import seaborn as sns \n",
    "sns.distplot(df[df['UID'] != 'N'].groupby(['UID'])['SESSION_ID'].nunique())"
   ]
  },
  {
   "cell_type": "code",
   "execution_count": 36,
   "metadata": {},
   "outputs": [],
   "source": [
    "# 세션당 상품수 "
   ]
  },
  {
   "cell_type": "code",
   "execution_count": 34,
   "metadata": {},
   "outputs": [
    {
     "data": {
      "text/plain": [
       "4.102493547958304"
      ]
     },
     "execution_count": 34,
     "metadata": {},
     "output_type": "execute_result"
    }
   ],
   "source": [
    "df.groupby(['SESSION_ID'])['PRORUCT_PRDNO'].nunique().mean()"
   ]
  },
  {
   "cell_type": "code",
   "execution_count": 71,
   "metadata": {},
   "outputs": [
    {
     "data": {
      "text/plain": [
       "<matplotlib.axes._subplots.AxesSubplot at 0x276492ee828>"
      ]
     },
     "execution_count": 71,
     "metadata": {},
     "output_type": "execute_result"
    },
    {
     "data": {
      "image/png": "[encoded data removed]",
      "text/plain": [
       "<Figure size 432x288 with 1 Axes>"
      ]
     },
     "metadata": {
      "needs_background": "light"
     },
     "output_type": "display_data"
    }
   ],
   "source": [
    "sns.distplot(df.groupby(['SESSION_ID'])['PRORUCT_PRDNO'].nunique())"
   ]
  },
  {
   "cell_type": "code",
   "execution_count": 41,
   "metadata": {},
   "outputs": [],
   "source": [
    "# 세션당 머무는 시간 "
   ]
  },
  {
   "cell_type": "code",
   "execution_count": 42,
   "metadata": {},
   "outputs": [],
   "source": [
    "time_diff = df.groupby(['SESSION_ID'])['VIEW_STARTTIME'].agg([\"min\",\"max\"])"
   ]
  },
  {
   "cell_type": "code",
   "execution_count": 44,
   "metadata": {},
   "outputs": [],
   "source": [
    "time_diff.reset_index(level=['SESSION_ID'], inplace = True) "
   ]
  },
  {
   "cell_type": "code",
   "execution_count": 45,
   "metadata": {},
   "outputs": [
    {
     "data": {
      "text/html": [
       "<div>\n",
       "<style scoped>\n",
       "    .dataframe tbody tr th:only-of-type {\n",
       "        vertical-align: middle;\n",
       "    }\n",
       "\n",
       "    .dataframe tbody tr th {\n",
       "        vertical-align: top;\n",
       "    }\n",
       "\n",
       "    .dataframe thead th {\n",
       "        text-align: right;\n",
       "    }\n",
       "</style>\n",
       "<table border=\"1\" class=\"dataframe\">\n",
       "  <thead>\n",
       "    <tr style=\"text-align: right;\">\n",
       "      <th></th>\n",
       "      <th>SESSION_ID</th>\n",
       "      <th>min</th>\n",
       "      <th>max</th>\n",
       "    </tr>\n",
       "  </thead>\n",
       "  <tbody>\n",
       "    <tr>\n",
       "      <th>0</th>\n",
       "      <td>1000002421.1557827893.1576559442</td>\n",
       "      <td>2019-12-17 14:10:42</td>\n",
       "      <td>2019-12-17 14:10:42</td>\n",
       "    </tr>\n",
       "    <tr>\n",
       "      <th>1</th>\n",
       "      <td>1000008530.1577581491.1577581491</td>\n",
       "      <td>2019-12-29 10:04:51</td>\n",
       "      <td>2019-12-29 10:04:51</td>\n",
       "    </tr>\n",
       "    <tr>\n",
       "      <th>2</th>\n",
       "      <td>100001056.1577249393.1577251736</td>\n",
       "      <td>2019-12-25 14:31:23</td>\n",
       "      <td>2019-12-25 14:40:11</td>\n",
       "    </tr>\n",
       "  </tbody>\n",
       "</table>\n",
       "</div>"
      ],
      "text/plain": [
       "                         SESSION_ID                  min                  max\n",
       "0  1000002421.1557827893.1576559442  2019-12-17 14:10:42  2019-12-17 14:10:42\n",
       "1  1000008530.1577581491.1577581491  2019-12-29 10:04:51  2019-12-29 10:04:51\n",
       "2   100001056.1577249393.1577251736  2019-12-25 14:31:23  2019-12-25 14:40:11"
      ]
     },
     "execution_count": 45,
     "metadata": {},
     "output_type": "execute_result"
    }
   ],
   "source": [
    "time_diff.head(3)"
   ]
  },
  {
   "cell_type": "code",
   "execution_count": 48,
   "metadata": {},
   "outputs": [],
   "source": [
    "time_diff['min'] = pd.to_datetime(time_diff['min'])"
   ]
  },
  {
   "cell_type": "code",
   "execution_count": 49,
   "metadata": {},
   "outputs": [],
   "source": [
    "time_diff['max'] = pd.to_datetime(time_diff['max'])"
   ]
  },
  {
   "cell_type": "code",
   "execution_count": 58,
   "metadata": {},
   "outputs": [
    {
     "data": {
      "text/plain": [
       "Timedelta('0 days 00:07:52.855714')"
      ]
     },
     "execution_count": 58,
     "metadata": {},
     "output_type": "execute_result"
    }
   ],
   "source": [
    "(time_diff['max'] - time_diff['min']).mean()"
   ]
  },
  {
   "cell_type": "code",
   "execution_count": 59,
   "metadata": {},
   "outputs": [],
   "source": [
    "time_diff['diff'] = time_diff['max'] - time_diff['min']"
   ]
  },
  {
   "cell_type": "code",
   "execution_count": 83,
   "metadata": {},
   "outputs": [
    {
     "data": {
      "text/html": [
       "<div>\n",
       "<style scoped>\n",
       "    .dataframe tbody tr th:only-of-type {\n",
       "        vertical-align: middle;\n",
       "    }\n",
       "\n",
       "    .dataframe tbody tr th {\n",
       "        vertical-align: top;\n",
       "    }\n",
       "\n",
       "    .dataframe thead th {\n",
       "        text-align: right;\n",
       "    }\n",
       "</style>\n",
       "<table border=\"1\" class=\"dataframe\">\n",
       "  <thead>\n",
       "    <tr style=\"text-align: right;\">\n",
       "      <th></th>\n",
       "      <th>SESSION_ID</th>\n",
       "      <th>min</th>\n",
       "      <th>max</th>\n",
       "      <th>diff</th>\n",
       "    </tr>\n",
       "  </thead>\n",
       "  <tbody>\n",
       "    <tr>\n",
       "      <th>0</th>\n",
       "      <td>1000002421.1557827893.1576559442</td>\n",
       "      <td>2019-12-17 14:10:42</td>\n",
       "      <td>2019-12-17 14:10:42</td>\n",
       "      <td>00:00:00</td>\n",
       "    </tr>\n",
       "    <tr>\n",
       "      <th>1</th>\n",
       "      <td>1000008530.1577581491.1577581491</td>\n",
       "      <td>2019-12-29 10:04:51</td>\n",
       "      <td>2019-12-29 10:04:51</td>\n",
       "      <td>00:00:00</td>\n",
       "    </tr>\n",
       "    <tr>\n",
       "      <th>2</th>\n",
       "      <td>100001056.1577249393.1577251736</td>\n",
       "      <td>2019-12-25 14:31:23</td>\n",
       "      <td>2019-12-25 14:40:11</td>\n",
       "      <td>00:08:48</td>\n",
       "    </tr>\n",
       "    <tr>\n",
       "      <th>3</th>\n",
       "      <td>100001056.1577249393.1577289750</td>\n",
       "      <td>2019-12-26 01:02:46</td>\n",
       "      <td>2019-12-26 01:10:57</td>\n",
       "      <td>00:08:11</td>\n",
       "    </tr>\n",
       "    <tr>\n",
       "      <th>4</th>\n",
       "      <td>1000013010.1575904017.1575904016</td>\n",
       "      <td>2019-12-10 00:09:55</td>\n",
       "      <td>2019-12-10 00:09:55</td>\n",
       "      <td>00:00:00</td>\n",
       "    </tr>\n",
       "    <tr>\n",
       "      <th>5</th>\n",
       "      <td>1000013010.1575904017.1575904721</td>\n",
       "      <td>2019-12-10 00:23:49</td>\n",
       "      <td>2019-12-10 00:25:49</td>\n",
       "      <td>00:02:00</td>\n",
       "    </tr>\n",
       "    <tr>\n",
       "      <th>6</th>\n",
       "      <td>1000013450.1575959059.1575959061</td>\n",
       "      <td>2019-12-10 15:24:53</td>\n",
       "      <td>2019-12-10 15:25:41</td>\n",
       "      <td>00:00:48</td>\n",
       "    </tr>\n",
       "    <tr>\n",
       "      <th>7</th>\n",
       "      <td>1000013450.1575959059.1575977759</td>\n",
       "      <td>2019-12-10 20:36:34</td>\n",
       "      <td>2019-12-10 20:45:05</td>\n",
       "      <td>00:08:31</td>\n",
       "    </tr>\n",
       "    <tr>\n",
       "      <th>8</th>\n",
       "      <td>1000013450.1575959059.1575986860</td>\n",
       "      <td>2019-12-10 23:07:59</td>\n",
       "      <td>2019-12-10 23:09:18</td>\n",
       "      <td>00:01:19</td>\n",
       "    </tr>\n",
       "    <tr>\n",
       "      <th>9</th>\n",
       "      <td>1000013565.1577291147.1577291150</td>\n",
       "      <td>2019-12-26 01:25:50</td>\n",
       "      <td>2019-12-26 01:26:41</td>\n",
       "      <td>00:00:51</td>\n",
       "    </tr>\n",
       "    <tr>\n",
       "      <th>10</th>\n",
       "      <td>1000013887.1576567362.1576567336</td>\n",
       "      <td>2019-12-17 16:29:58</td>\n",
       "      <td>2019-12-17 16:30:28</td>\n",
       "      <td>00:00:30</td>\n",
       "    </tr>\n",
       "    <tr>\n",
       "      <th>11</th>\n",
       "      <td>1000016863.1576209447.1576209562</td>\n",
       "      <td>2019-12-13 13:00:35</td>\n",
       "      <td>2019-12-13 13:01:37</td>\n",
       "      <td>00:01:02</td>\n",
       "    </tr>\n",
       "  </tbody>\n",
       "</table>\n",
       "</div>"
      ],
      "text/plain": [
       "                          SESSION_ID                 min                 max  \\\n",
       "0   1000002421.1557827893.1576559442 2019-12-17 14:10:42 2019-12-17 14:10:42   \n",
       "1   1000008530.1577581491.1577581491 2019-12-29 10:04:51 2019-12-29 10:04:51   \n",
       "2    100001056.1577249393.1577251736 2019-12-25 14:31:23 2019-12-25 14:40:11   \n",
       "3    100001056.1577249393.1577289750 2019-12-26 01:02:46 2019-12-26 01:10:57   \n",
       "4   1000013010.1575904017.1575904016 2019-12-10 00:09:55 2019-12-10 00:09:55   \n",
       "5   1000013010.1575904017.1575904721 2019-12-10 00:23:49 2019-12-10 00:25:49   \n",
       "6   1000013450.1575959059.1575959061 2019-12-10 15:24:53 2019-12-10 15:25:41   \n",
       "7   1000013450.1575959059.1575977759 2019-12-10 20:36:34 2019-12-10 20:45:05   \n",
       "8   1000013450.1575959059.1575986860 2019-12-10 23:07:59 2019-12-10 23:09:18   \n",
       "9   1000013565.1577291147.1577291150 2019-12-26 01:25:50 2019-12-26 01:26:41   \n",
       "10  1000013887.1576567362.1576567336 2019-12-17 16:29:58 2019-12-17 16:30:28   \n",
       "11  1000016863.1576209447.1576209562 2019-12-13 13:00:35 2019-12-13 13:01:37   \n",
       "\n",
       "       diff  \n",
       "0  00:00:00  \n",
       "1  00:00:00  \n",
       "2  00:08:48  \n",
       "3  00:08:11  \n",
       "4  00:00:00  \n",
       "5  00:02:00  \n",
       "6  00:00:48  \n",
       "7  00:08:31  \n",
       "8  00:01:19  \n",
       "9  00:00:51  \n",
       "10 00:00:30  \n",
       "11 00:01:02  "
      ]
     },
     "execution_count": 83,
     "metadata": {},
     "output_type": "execute_result"
    }
   ],
   "source": [
    "time_diff.head(12)"
   ]
  },
  {
   "cell_type": "code",
   "execution_count": 88,
   "metadata": {},
   "outputs": [],
   "source": [
    "df['SESSION_STARTTIME'] = pd.to_datetime(df['SESSION_STARTTIME'])"
   ]
  },
  {
   "cell_type": "code",
   "execution_count": 89,
   "metadata": {},
   "outputs": [],
   "source": [
    "df['VIEW_STARTTIME'] = pd.to_datetime(df['VIEW_STARTTIME'])"
   ]
  },
  {
   "cell_type": "code",
   "execution_count": 91,
   "metadata": {},
   "outputs": [],
   "source": [
    "df['time_diff'] = df['VIEW_STARTTIME'] - df['SESSION_STARTTIME']"
   ]
  },
  {
   "cell_type": "code",
   "execution_count": 92,
   "metadata": {},
   "outputs": [
    {
     "data": {
      "text/html": [
       "<div>\n",
       "<style scoped>\n",
       "    .dataframe tbody tr th:only-of-type {\n",
       "        vertical-align: middle;\n",
       "    }\n",
       "\n",
       "    .dataframe tbody tr th {\n",
       "        vertical-align: top;\n",
       "    }\n",
       "\n",
       "    .dataframe thead th {\n",
       "        text-align: right;\n",
       "    }\n",
       "</style>\n",
       "<table border=\"1\" class=\"dataframe\">\n",
       "  <thead>\n",
       "    <tr style=\"text-align: right;\">\n",
       "      <th></th>\n",
       "      <th>DATE</th>\n",
       "      <th>SESSION_ID</th>\n",
       "      <th>UID</th>\n",
       "      <th>SESSION_STARTTIME</th>\n",
       "      <th>VIEW_STARTTIME</th>\n",
       "      <th>PAGE_PATH</th>\n",
       "      <th>PRODUCT_NAME</th>\n",
       "      <th>PRORUCT_PRDNO</th>\n",
       "      <th>PRORUCT_BRAND_NO</th>\n",
       "      <th>cate_1</th>\n",
       "      <th>cate_2</th>\n",
       "      <th>cate_3</th>\n",
       "      <th>time_diff</th>\n",
       "    </tr>\n",
       "  </thead>\n",
       "  <tbody>\n",
       "    <tr>\n",
       "      <th>0</th>\n",
       "      <td>20191201</td>\n",
       "      <td>211463454.1545391457.1575127879</td>\n",
       "      <td>36201</td>\n",
       "      <td>2019-12-01 00:31:19</td>\n",
       "      <td>2019-12-01 00:40:44</td>\n",
       "      <td>/kr/product/productDetail?prdNo=20000426021</td>\n",
       "      <td>랑콤 압솔뤼 로즈 필링 드롭</td>\n",
       "      <td>20000426021</td>\n",
       "      <td>10326</td>\n",
       "      <td>10000002</td>\n",
       "      <td>100000005</td>\n",
       "      <td>1000000116</td>\n",
       "      <td>00:09:25</td>\n",
       "    </tr>\n",
       "    <tr>\n",
       "      <th>1</th>\n",
       "      <td>20191201</td>\n",
       "      <td>211463454.1545391457.1575127879</td>\n",
       "      <td>36201</td>\n",
       "      <td>2019-12-01 00:31:19</td>\n",
       "      <td>2019-12-01 00:44:25</td>\n",
       "      <td>/kr/product/productDetail?prdNo=20000409796</td>\n",
       "      <td>SLG</td>\n",
       "      <td>20000409796</td>\n",
       "      <td>10142</td>\n",
       "      <td>10000010</td>\n",
       "      <td>100000046</td>\n",
       "      <td>1000000577</td>\n",
       "      <td>00:13:06</td>\n",
       "    </tr>\n",
       "    <tr>\n",
       "      <th>2</th>\n",
       "      <td>20191201</td>\n",
       "      <td>211463454.1545391457.1575127879</td>\n",
       "      <td>36201</td>\n",
       "      <td>2019-12-01 00:31:19</td>\n",
       "      <td>2019-12-01 00:46:56</td>\n",
       "      <td>/kr/product/productDetail?prdNo=20000493587</td>\n",
       "      <td>[면세전용] 뉴 클라리소닉 미아 스마트 핑크</td>\n",
       "      <td>20000493587</td>\n",
       "      <td>17993</td>\n",
       "      <td>10000004</td>\n",
       "      <td>100000017</td>\n",
       "      <td>1000000306</td>\n",
       "      <td>00:15:37</td>\n",
       "    </tr>\n",
       "  </tbody>\n",
       "</table>\n",
       "</div>"
      ],
      "text/plain": [
       "       DATE                       SESSION_ID    UID   SESSION_STARTTIME  \\\n",
       "0  20191201  211463454.1545391457.1575127879  36201 2019-12-01 00:31:19   \n",
       "1  20191201  211463454.1545391457.1575127879  36201 2019-12-01 00:31:19   \n",
       "2  20191201  211463454.1545391457.1575127879  36201 2019-12-01 00:31:19   \n",
       "\n",
       "       VIEW_STARTTIME                                    PAGE_PATH  \\\n",
       "0 2019-12-01 00:40:44  /kr/product/productDetail?prdNo=20000426021   \n",
       "1 2019-12-01 00:44:25  /kr/product/productDetail?prdNo=20000409796   \n",
       "2 2019-12-01 00:46:56  /kr/product/productDetail?prdNo=20000493587   \n",
       "\n",
       "               PRODUCT_NAME PRORUCT_PRDNO PRORUCT_BRAND_NO    cate_1  \\\n",
       "0           랑콤 압솔뤼 로즈 필링 드롭   20000426021            10326  10000002   \n",
       "1                       SLG   20000409796            10142  10000010   \n",
       "2  [면세전용] 뉴 클라리소닉 미아 스마트 핑크   20000493587            17993  10000004   \n",
       "\n",
       "      cate_2      cate_3 time_diff  \n",
       "0  100000005  1000000116  00:09:25  \n",
       "1  100000046  1000000577  00:13:06  \n",
       "2  100000017  1000000306  00:15:37  "
      ]
     },
     "execution_count": 92,
     "metadata": {},
     "output_type": "execute_result"
    }
   ],
   "source": [
    "df.head(3)"
   ]
  },
  {
   "cell_type": "code",
   "execution_count": 236,
   "metadata": {},
   "outputs": [
    {
     "name": "stderr",
     "output_type": "stream",
     "text": [
      "C:\\ProgramData\\Anaconda3\\lib\\site-packages\\IPython\\core\\interactiveshell.py:3063: DtypeWarning: Columns (2) have mixed types.Specify dtype option on import or set low_memory=False.\n",
      "  interactivity=interactivity, compiler=compiler, result=result)\n"
     ]
    }
   ],
   "source": [
    "prod_nm = pd.read_csv('PROD_NM_DATA_20200323.csv')"
   ]
  },
  {
   "cell_type": "code",
   "execution_count": 237,
   "metadata": {},
   "outputs": [],
   "source": [
    "prod_nm = prod_nm[['CATE_LEVEL3','CATE_LEVEL2','CATE_LEVEL1','STDD_CATE_NO']]\n",
    "prod_nm['STDD_CATE_NO'] = prod_nm.STDD_CATE_NO.astype(int).astype(str)\n",
    "prod_nm.columns = ['cate_nm3','cate_nm2','cate_nm1','cate_3']\n",
    "prod_nm.drop_duplicates(keep='first', inplace=True)"
   ]
  },
  {
   "cell_type": "code",
   "execution_count": 247,
   "metadata": {},
   "outputs": [
    {
     "data": {
      "text/html": [
       "<div>\n",
       "<style scoped>\n",
       "    .dataframe tbody tr th:only-of-type {\n",
       "        vertical-align: middle;\n",
       "    }\n",
       "\n",
       "    .dataframe tbody tr th {\n",
       "        vertical-align: top;\n",
       "    }\n",
       "\n",
       "    .dataframe thead th {\n",
       "        text-align: right;\n",
       "    }\n",
       "</style>\n",
       "<table border=\"1\" class=\"dataframe\">\n",
       "  <thead>\n",
       "    <tr style=\"text-align: right;\">\n",
       "      <th></th>\n",
       "      <th>cate_nm3</th>\n",
       "      <th>cate_nm2</th>\n",
       "      <th>cate_nm1</th>\n",
       "      <th>cate_3</th>\n",
       "    </tr>\n",
       "  </thead>\n",
       "  <tbody>\n",
       "    <tr>\n",
       "      <th>0</th>\n",
       "      <td>비사용</td>\n",
       "      <td>비사용</td>\n",
       "      <td>비사용</td>\n",
       "      <td>-2147483648</td>\n",
       "    </tr>\n",
       "    <tr>\n",
       "      <th>26</th>\n",
       "      <td>스페셜오더</td>\n",
       "      <td>스페셜오더</td>\n",
       "      <td>스페셜오더</td>\n",
       "      <td>-2147483648</td>\n",
       "    </tr>\n",
       "    <tr>\n",
       "      <th>56</th>\n",
       "      <td>여성_토트백</td>\n",
       "      <td>가방</td>\n",
       "      <td>국내_가방/지갑</td>\n",
       "      <td>1000000511</td>\n",
       "    </tr>\n",
       "    <tr>\n",
       "      <th>58</th>\n",
       "      <td>여성_숄더백</td>\n",
       "      <td>가방</td>\n",
       "      <td>국내_가방/지갑</td>\n",
       "      <td>1000000509</td>\n",
       "    </tr>\n",
       "    <tr>\n",
       "      <th>61</th>\n",
       "      <td>남성_숄더백</td>\n",
       "      <td>가방</td>\n",
       "      <td>국내_가방/지갑</td>\n",
       "      <td>1000000510</td>\n",
       "    </tr>\n",
       "    <tr>\n",
       "      <th>157</th>\n",
       "      <td>여성_선크림</td>\n",
       "      <td>선케어</td>\n",
       "      <td>해외_스킨케어</td>\n",
       "      <td>1000000133</td>\n",
       "    </tr>\n",
       "    <tr>\n",
       "      <th>159</th>\n",
       "      <td>여성_선글라스</td>\n",
       "      <td>선글라스</td>\n",
       "      <td>국내_패션잡화</td>\n",
       "      <td>1000000721</td>\n",
       "    </tr>\n",
       "    <tr>\n",
       "      <th>162</th>\n",
       "      <td>펜슬 아이라이너</td>\n",
       "      <td>색조메이크업</td>\n",
       "      <td>해외_메이크업</td>\n",
       "      <td>1000000284</td>\n",
       "    </tr>\n",
       "    <tr>\n",
       "      <th>163</th>\n",
       "      <td>립 세트</td>\n",
       "      <td>색조메이크업</td>\n",
       "      <td>국내_메이크업</td>\n",
       "      <td>1000000219</td>\n",
       "    </tr>\n",
       "    <tr>\n",
       "      <th>164</th>\n",
       "      <td>여성_메이크업베이스</td>\n",
       "      <td>베이스 메이크업</td>\n",
       "      <td>국내_메이크업</td>\n",
       "      <td>1000000185</td>\n",
       "    </tr>\n",
       "    <tr>\n",
       "      <th>165</th>\n",
       "      <td>립틴트</td>\n",
       "      <td>색조메이크업</td>\n",
       "      <td>국내_메이크업</td>\n",
       "      <td>1000000204</td>\n",
       "    </tr>\n",
       "    <tr>\n",
       "      <th>167</th>\n",
       "      <td>쉐이딩/컨투어링</td>\n",
       "      <td>색조메이크업</td>\n",
       "      <td>국내_메이크업</td>\n",
       "      <td>1000000214</td>\n",
       "    </tr>\n",
       "    <tr>\n",
       "      <th>173</th>\n",
       "      <td>여성_BB크림</td>\n",
       "      <td>베이스 메이크업</td>\n",
       "      <td>국내_메이크업</td>\n",
       "      <td>1000000179</td>\n",
       "    </tr>\n",
       "  </tbody>\n",
       "</table>\n",
       "</div>"
      ],
      "text/plain": [
       "       cate_nm3  cate_nm2  cate_nm1       cate_3\n",
       "0           비사용       비사용       비사용  -2147483648\n",
       "26        스페셜오더     스페셜오더     스페셜오더  -2147483648\n",
       "56       여성_토트백        가방  국내_가방/지갑   1000000511\n",
       "58       여성_숄더백        가방  국내_가방/지갑   1000000509\n",
       "61       남성_숄더백        가방  국내_가방/지갑   1000000510\n",
       "157      여성_선크림       선케어   해외_스킨케어   1000000133\n",
       "159     여성_선글라스      선글라스   국내_패션잡화   1000000721\n",
       "162    펜슬 아이라이너    색조메이크업   해외_메이크업   1000000284\n",
       "163        립 세트    색조메이크업   국내_메이크업   1000000219\n",
       "164  여성_메이크업베이스  베이스 메이크업   국내_메이크업   1000000185\n",
       "165         립틴트    색조메이크업   국내_메이크업   1000000204\n",
       "167    쉐이딩/컨투어링    색조메이크업   국내_메이크업   1000000214\n",
       "173     여성_BB크림  베이스 메이크업   국내_메이크업   1000000179"
      ]
     },
     "execution_count": 247,
     "metadata": {},
     "output_type": "execute_result"
    }
   ],
   "source": [
    "prod_nm.head(13)"
   ]
  },
  {
   "cell_type": "code",
   "execution_count": 238,
   "metadata": {},
   "outputs": [],
   "source": [
    "df.fillna('0', inplace=True)"
   ]
  },
  {
   "cell_type": "code",
   "execution_count": 239,
   "metadata": {},
   "outputs": [],
   "source": [
    "df['cate_3'] =  df.cate_3.astype(int).astype(str)\n",
    "df = pd.merge(df, prod_nm, how='left', on= 'cate_3')"
   ]
  },
  {
   "cell_type": "code",
   "execution_count": 248,
   "metadata": {},
   "outputs": [
    {
     "data": {
      "text/html": [
       "<div>\n",
       "<style scoped>\n",
       "    .dataframe tbody tr th:only-of-type {\n",
       "        vertical-align: middle;\n",
       "    }\n",
       "\n",
       "    .dataframe tbody tr th {\n",
       "        vertical-align: top;\n",
       "    }\n",
       "\n",
       "    .dataframe thead th {\n",
       "        text-align: right;\n",
       "    }\n",
       "</style>\n",
       "<table border=\"1\" class=\"dataframe\">\n",
       "  <thead>\n",
       "    <tr style=\"text-align: right;\">\n",
       "      <th></th>\n",
       "      <th>DATE</th>\n",
       "      <th>SESSION_ID</th>\n",
       "      <th>UID</th>\n",
       "      <th>SESSION_STARTTIME</th>\n",
       "      <th>VIEW_STARTTIME</th>\n",
       "      <th>PAGE_PATH</th>\n",
       "      <th>PRODUCT_NAME</th>\n",
       "      <th>PRORUCT_PRDNO</th>\n",
       "      <th>PRORUCT_BRAND_NO</th>\n",
       "      <th>cate_1</th>\n",
       "      <th>cate_2</th>\n",
       "      <th>cate_3</th>\n",
       "      <th>time_diff</th>\n",
       "      <th>cate_nm3</th>\n",
       "      <th>cate_nm2</th>\n",
       "      <th>cate_nm1</th>\n",
       "    </tr>\n",
       "  </thead>\n",
       "  <tbody>\n",
       "    <tr>\n",
       "      <th>0</th>\n",
       "      <td>20191201</td>\n",
       "      <td>211463454.1545391457.1575127879</td>\n",
       "      <td>36201</td>\n",
       "      <td>2019-12-01 00:31:19</td>\n",
       "      <td>2019-12-01 00:40:44</td>\n",
       "      <td>/kr/product/productDetail?prdNo=20000426021</td>\n",
       "      <td>랑콤 압솔뤼 로즈 필링 드롭</td>\n",
       "      <td>20000426021</td>\n",
       "      <td>10326</td>\n",
       "      <td>10000002</td>\n",
       "      <td>1e+08</td>\n",
       "      <td>1000000116</td>\n",
       "      <td>0 days 00:09:25.000000000</td>\n",
       "      <td>앰플</td>\n",
       "      <td>기초케어</td>\n",
       "      <td>해외_스킨케어</td>\n",
       "    </tr>\n",
       "    <tr>\n",
       "      <th>1</th>\n",
       "      <td>20191201</td>\n",
       "      <td>211463454.1545391457.1575127879</td>\n",
       "      <td>36201</td>\n",
       "      <td>2019-12-01 00:31:19</td>\n",
       "      <td>2019-12-01 00:44:25</td>\n",
       "      <td>/kr/product/productDetail?prdNo=20000409796</td>\n",
       "      <td>SLG</td>\n",
       "      <td>20000409796</td>\n",
       "      <td>10142</td>\n",
       "      <td>10000010</td>\n",
       "      <td>1e+08</td>\n",
       "      <td>1000000577</td>\n",
       "      <td>0 days 00:13:06.000000000</td>\n",
       "      <td>여성_반지갑</td>\n",
       "      <td>지갑</td>\n",
       "      <td>해외_가방/지갑</td>\n",
       "    </tr>\n",
       "    <tr>\n",
       "      <th>2</th>\n",
       "      <td>20191201</td>\n",
       "      <td>211463454.1545391457.1575127879</td>\n",
       "      <td>36201</td>\n",
       "      <td>2019-12-01 00:31:19</td>\n",
       "      <td>2019-12-01 00:46:56</td>\n",
       "      <td>/kr/product/productDetail?prdNo=20000493587</td>\n",
       "      <td>[면세전용] 뉴 클라리소닉 미아 스마트 핑크</td>\n",
       "      <td>20000493587</td>\n",
       "      <td>17993</td>\n",
       "      <td>10000004</td>\n",
       "      <td>1e+08</td>\n",
       "      <td>1000000306</td>\n",
       "      <td>0 days 00:15:37.000000000</td>\n",
       "      <td>클렌징기기</td>\n",
       "      <td>미용기기</td>\n",
       "      <td>해외_메이크업</td>\n",
       "    </tr>\n",
       "    <tr>\n",
       "      <th>3</th>\n",
       "      <td>20191201</td>\n",
       "      <td>211463454.1545391457.1575127879</td>\n",
       "      <td>36201</td>\n",
       "      <td>2019-12-01 00:31:19</td>\n",
       "      <td>2019-12-01 00:48:03</td>\n",
       "      <td>/kr/product/productDetail?prdNo=20000493587</td>\n",
       "      <td>[면세전용] 뉴 클라리소닉 미아 스마트 핑크</td>\n",
       "      <td>20000493587</td>\n",
       "      <td>17993</td>\n",
       "      <td>10000004</td>\n",
       "      <td>1e+08</td>\n",
       "      <td>1000000306</td>\n",
       "      <td>0 days 00:16:44.000000000</td>\n",
       "      <td>클렌징기기</td>\n",
       "      <td>미용기기</td>\n",
       "      <td>해외_메이크업</td>\n",
       "    </tr>\n",
       "    <tr>\n",
       "      <th>4</th>\n",
       "      <td>20191201</td>\n",
       "      <td>1551615701.1519631661.1575204179</td>\n",
       "      <td>78047</td>\n",
       "      <td>2019-12-01 21:42:59</td>\n",
       "      <td>2019-12-01 21:47:39</td>\n",
       "      <td>/kr/product/productDetail?prdNo=10000007053</td>\n",
       "      <td>DIOR LIP GLOW 001</td>\n",
       "      <td>10000007053</td>\n",
       "      <td>10073</td>\n",
       "      <td>10000004</td>\n",
       "      <td>1e+08</td>\n",
       "      <td>1000000278</td>\n",
       "      <td>0 days 00:04:40.000000000</td>\n",
       "      <td>립글로스</td>\n",
       "      <td>색조메이크업</td>\n",
       "      <td>해외_메이크업</td>\n",
       "    </tr>\n",
       "    <tr>\n",
       "      <th>5</th>\n",
       "      <td>20191201</td>\n",
       "      <td>1551615701.1519631661.1575204179</td>\n",
       "      <td>78047</td>\n",
       "      <td>2019-12-01 21:42:59</td>\n",
       "      <td>2019-12-01 22:12:05</td>\n",
       "      <td>/kr/product/productDetail?prdNo=10003139697&amp;pr...</td>\n",
       "      <td>르 베르니</td>\n",
       "      <td>10003139697</td>\n",
       "      <td>10064</td>\n",
       "      <td>10000004</td>\n",
       "      <td>1e+08</td>\n",
       "      <td>1000000296</td>\n",
       "      <td>0 days 00:29:06.000000000</td>\n",
       "      <td>매니큐어</td>\n",
       "      <td>네일케어</td>\n",
       "      <td>해외_메이크업</td>\n",
       "    </tr>\n",
       "    <tr>\n",
       "      <th>6</th>\n",
       "      <td>20191201</td>\n",
       "      <td>235321134.1483693499.1575195254</td>\n",
       "      <td>82768</td>\n",
       "      <td>2019-12-01 19:14:14</td>\n",
       "      <td>2019-12-01 19:14:48</td>\n",
       "      <td>/kr/product/productDetail?prdNo=20000547668&amp;pr...</td>\n",
       "      <td>Lucky Pleats Knit M Starry Black</td>\n",
       "      <td>20000547668</td>\n",
       "      <td>1001040</td>\n",
       "      <td>10000009</td>\n",
       "      <td>1e+08</td>\n",
       "      <td>1000000509</td>\n",
       "      <td>0 days 00:00:34.000000000</td>\n",
       "      <td>여성_숄더백</td>\n",
       "      <td>가방</td>\n",
       "      <td>국내_가방/지갑</td>\n",
       "    </tr>\n",
       "    <tr>\n",
       "      <th>7</th>\n",
       "      <td>20191201</td>\n",
       "      <td>235321134.1483693499.1575195254</td>\n",
       "      <td>82768</td>\n",
       "      <td>2019-12-01 19:14:14</td>\n",
       "      <td>2019-12-01 19:15:09</td>\n",
       "      <td>/kr/product/productDetail?prdNo=20000550448&amp;rc...</td>\n",
       "      <td>KNIT PLEATS SHOULDER BAG BURGUNDY</td>\n",
       "      <td>20000550448</td>\n",
       "      <td>1002278</td>\n",
       "      <td>10000009</td>\n",
       "      <td>1e+08</td>\n",
       "      <td>1000000509</td>\n",
       "      <td>0 days 00:00:55.000000000</td>\n",
       "      <td>여성_숄더백</td>\n",
       "      <td>가방</td>\n",
       "      <td>국내_가방/지갑</td>\n",
       "    </tr>\n",
       "    <tr>\n",
       "      <th>8</th>\n",
       "      <td>20191201</td>\n",
       "      <td>1803910197.1564738265.1575207678</td>\n",
       "      <td>87715</td>\n",
       "      <td>2019-12-01 22:41:18</td>\n",
       "      <td>2019-12-01 23:01:50</td>\n",
       "      <td>/kr/product/productDetail?prdNo=10001863309&amp;pr...</td>\n",
       "      <td>데미지 레미디&amp;trade; 리스트럭처링 샴푸, 250ml</td>\n",
       "      <td>10001863309</td>\n",
       "      <td>17308</td>\n",
       "      <td>10000008</td>\n",
       "      <td>1e+08</td>\n",
       "      <td>1000000468</td>\n",
       "      <td>0 days 00:20:32.000000000</td>\n",
       "      <td>여성_샴푸</td>\n",
       "      <td>헤어케어</td>\n",
       "      <td>해외_바디/헤어</td>\n",
       "    </tr>\n",
       "    <tr>\n",
       "      <th>9</th>\n",
       "      <td>20191201</td>\n",
       "      <td>1803910197.1564738265.1575207678</td>\n",
       "      <td>87715</td>\n",
       "      <td>2019-12-01 22:41:18</td>\n",
       "      <td>2019-12-01 23:12:59</td>\n",
       "      <td>/kr/product/productDetail?prdNo=20000380070</td>\n",
       "      <td>키엘 블루 허벌 블레미쉬 클렌저 트리트먼트</td>\n",
       "      <td>20000380070</td>\n",
       "      <td>16175</td>\n",
       "      <td>10000002</td>\n",
       "      <td>1e+08</td>\n",
       "      <td>1000000164</td>\n",
       "      <td>0 days 00:31:41.000000000</td>\n",
       "      <td>여성_클렌징젤</td>\n",
       "      <td>클렌징</td>\n",
       "      <td>해외_스킨케어</td>\n",
       "    </tr>\n",
       "  </tbody>\n",
       "</table>\n",
       "</div>"
      ],
      "text/plain": [
       "       DATE                        SESSION_ID    UID    SESSION_STARTTIME  \\\n",
       "0  20191201   211463454.1545391457.1575127879  36201  2019-12-01 00:31:19   \n",
       "1  20191201   211463454.1545391457.1575127879  36201  2019-12-01 00:31:19   \n",
       "2  20191201   211463454.1545391457.1575127879  36201  2019-12-01 00:31:19   \n",
       "3  20191201   211463454.1545391457.1575127879  36201  2019-12-01 00:31:19   \n",
       "4  20191201  1551615701.1519631661.1575204179  78047  2019-12-01 21:42:59   \n",
       "5  20191201  1551615701.1519631661.1575204179  78047  2019-12-01 21:42:59   \n",
       "6  20191201   235321134.1483693499.1575195254  82768  2019-12-01 19:14:14   \n",
       "7  20191201   235321134.1483693499.1575195254  82768  2019-12-01 19:14:14   \n",
       "8  20191201  1803910197.1564738265.1575207678  87715  2019-12-01 22:41:18   \n",
       "9  20191201  1803910197.1564738265.1575207678  87715  2019-12-01 22:41:18   \n",
       "\n",
       "        VIEW_STARTTIME                                          PAGE_PATH  \\\n",
       "0  2019-12-01 00:40:44        /kr/product/productDetail?prdNo=20000426021   \n",
       "1  2019-12-01 00:44:25        /kr/product/productDetail?prdNo=20000409796   \n",
       "2  2019-12-01 00:46:56        /kr/product/productDetail?prdNo=20000493587   \n",
       "3  2019-12-01 00:48:03        /kr/product/productDetail?prdNo=20000493587   \n",
       "4  2019-12-01 21:47:39        /kr/product/productDetail?prdNo=10000007053   \n",
       "5  2019-12-01 22:12:05  /kr/product/productDetail?prdNo=10003139697&pr...   \n",
       "6  2019-12-01 19:14:48  /kr/product/productDetail?prdNo=20000547668&pr...   \n",
       "7  2019-12-01 19:15:09  /kr/product/productDetail?prdNo=20000550448&rc...   \n",
       "8  2019-12-01 23:01:50  /kr/product/productDetail?prdNo=10001863309&pr...   \n",
       "9  2019-12-01 23:12:59        /kr/product/productDetail?prdNo=20000380070   \n",
       "\n",
       "                        PRODUCT_NAME PRORUCT_PRDNO PRORUCT_BRAND_NO    cate_1  \\\n",
       "0                    랑콤 압솔뤼 로즈 필링 드롭   20000426021            10326  10000002   \n",
       "1                                SLG   20000409796            10142  10000010   \n",
       "2           [면세전용] 뉴 클라리소닉 미아 스마트 핑크   20000493587            17993  10000004   \n",
       "3           [면세전용] 뉴 클라리소닉 미아 스마트 핑크   20000493587            17993  10000004   \n",
       "4                  DIOR LIP GLOW 001   10000007053            10073  10000004   \n",
       "5                              르 베르니   10003139697            10064  10000004   \n",
       "6   Lucky Pleats Knit M Starry Black   20000547668          1001040  10000009   \n",
       "7  KNIT PLEATS SHOULDER BAG BURGUNDY   20000550448          1002278  10000009   \n",
       "8    데미지 레미디&trade; 리스트럭처링 샴푸, 250ml   10001863309            17308  10000008   \n",
       "9            키엘 블루 허벌 블레미쉬 클렌저 트리트먼트   20000380070            16175  10000002   \n",
       "\n",
       "  cate_2      cate_3                  time_diff cate_nm3 cate_nm2  cate_nm1  \n",
       "0  1e+08  1000000116  0 days 00:09:25.000000000       앰플     기초케어   해외_스킨케어  \n",
       "1  1e+08  1000000577  0 days 00:13:06.000000000   여성_반지갑       지갑  해외_가방/지갑  \n",
       "2  1e+08  1000000306  0 days 00:15:37.000000000    클렌징기기     미용기기   해외_메이크업  \n",
       "3  1e+08  1000000306  0 days 00:16:44.000000000    클렌징기기     미용기기   해외_메이크업  \n",
       "4  1e+08  1000000278  0 days 00:04:40.000000000     립글로스   색조메이크업   해외_메이크업  \n",
       "5  1e+08  1000000296  0 days 00:29:06.000000000     매니큐어     네일케어   해외_메이크업  \n",
       "6  1e+08  1000000509  0 days 00:00:34.000000000   여성_숄더백       가방  국내_가방/지갑  \n",
       "7  1e+08  1000000509  0 days 00:00:55.000000000   여성_숄더백       가방  국내_가방/지갑  \n",
       "8  1e+08  1000000468  0 days 00:20:32.000000000    여성_샴푸     헤어케어  해외_바디/헤어  \n",
       "9  1e+08  1000000164  0 days 00:31:41.000000000  여성_클렌징젤      클렌징   해외_스킨케어  "
      ]
     },
     "execution_count": 248,
     "metadata": {},
     "output_type": "execute_result"
    }
   ],
   "source": [
    "df.head(10)"
   ]
  },
  {
   "cell_type": "code",
   "execution_count": 93,
   "metadata": {},
   "outputs": [],
   "source": [
    "df.to_csv('df_log_201912_v1.csv', index=False)"
   ]
  },
  {
   "cell_type": "code",
   "execution_count": 1,
   "metadata": {},
   "outputs": [
    {
     "name": "stderr",
     "output_type": "stream",
     "text": [
      "C:\\ProgramData\\Anaconda3\\lib\\site-packages\\IPython\\core\\interactiveshell.py:3063: DtypeWarning: Columns (2,7) have mixed types.Specify dtype option on import or set low_memory=False.\n",
      "  interactivity=interactivity, compiler=compiler, result=result)\n"
     ]
    }
   ],
   "source": [
    "import pandas as pd \n",
    "import numpy as np \n",
    "df = pd.read_csv('df_log_201912_v1.csv')"
   ]
  },
  {
   "cell_type": "code",
   "execution_count": 27,
   "metadata": {},
   "outputs": [
    {
     "data": {
      "text/plain": [
       "1.8937769338351507"
      ]
     },
     "execution_count": 27,
     "metadata": {},
     "output_type": "execute_result"
    }
   ],
   "source": [
    "df.groupby(['PRODUCT_NAME'])['PRORUCT_PRDNO'].nunique().mean()"
   ]
  },
  {
   "cell_type": "code",
   "execution_count": 28,
   "metadata": {},
   "outputs": [
    {
     "data": {
      "text/plain": [
       "166168"
      ]
     },
     "execution_count": 28,
     "metadata": {},
     "output_type": "execute_result"
    }
   ],
   "source": [
    "df.PRORUCT_PRDNO.nunique()"
   ]
  },
  {
   "cell_type": "code",
   "execution_count": 29,
   "metadata": {},
   "outputs": [
    {
     "data": {
      "text/plain": [
       "34"
      ]
     },
     "execution_count": 29,
     "metadata": {},
     "output_type": "execute_result"
    }
   ],
   "source": [
    "df.cate_1.nunique()"
   ]
  },
  {
   "cell_type": "code",
   "execution_count": 30,
   "metadata": {},
   "outputs": [
    {
     "data": {
      "text/plain": [
       "173"
      ]
     },
     "execution_count": 30,
     "metadata": {},
     "output_type": "execute_result"
    }
   ],
   "source": [
    "df.cate_2.nunique()"
   ]
  },
  {
   "cell_type": "code",
   "execution_count": 31,
   "metadata": {},
   "outputs": [
    {
     "data": {
      "text/plain": [
       "1221"
      ]
     },
     "execution_count": 31,
     "metadata": {},
     "output_type": "execute_result"
    }
   ],
   "source": [
    "df.cate_3.nunique()"
   ]
  },
  {
   "cell_type": "code",
   "execution_count": 249,
   "metadata": {},
   "outputs": [],
   "source": [
    "df['rating'] = 1 "
   ]
  },
  {
   "cell_type": "code",
   "execution_count": 250,
   "metadata": {},
   "outputs": [],
   "source": [
    "df_cate1 = df.groupby(['SESSION_ID','SESSION_STARTTIME','cate_nm1'])['rating'].agg(['max','sum'])\n",
    "df_cate1.reset_index(level=['SESSION_ID','SESSION_STARTTIME','cate_nm1'], inplace=True)\n",
    "df_cate1.columns = ['SESSION_ID','SESSION_STARTTIME','item','rating_yn','rating_sum']"
   ]
  },
  {
   "cell_type": "code",
   "execution_count": 265,
   "metadata": {},
   "outputs": [],
   "source": [
    "df_cate2 = df.groupby(['SESSION_ID','SESSION_STARTTIME','cate_nm2'])['rating'].agg(['max','sum'])\n",
    "df_cate2.reset_index(level=['SESSION_ID','SESSION_STARTTIME','cate_nm2'], inplace=True)\n",
    "df_cate2.columns = ['SESSION_ID','SESSION_STARTTIME','item','rating_yn','rating_sum']"
   ]
  },
  {
   "cell_type": "code",
   "execution_count": 123,
   "metadata": {},
   "outputs": [],
   "source": [
    "df_cate3 = df.groupby(['SESSION_ID','SESSION_STARTTIME','cate_3'])['rating'].agg(['max','sum'])\n",
    "df_cate3.reset_index(level=['SESSION_ID','SESSION_STARTTIME','cate_3'], inplace=True)\n",
    "df_cate3.columns = ['SESSION_ID','SESSION_STARTTIME','cate_3','rating_yn','rating_sum']"
   ]
  },
  {
   "cell_type": "code",
   "execution_count": 164,
   "metadata": {},
   "outputs": [],
   "source": [
    "df_cate3 = df.groupby(['SESSION_ID','SESSION_STARTTIME','cate_nm'])['rating'].agg(['max','sum'])\n",
    "df_cate3.reset_index(level=['SESSION_ID','SESSION_STARTTIME','cate_nm'], inplace=True)\n",
    "df_cate3.columns = ['SESSION_ID','SESSION_STARTTIME','cate_nm','rating_yn','rating_sum']"
   ]
  },
  {
   "cell_type": "code",
   "execution_count": 192,
   "metadata": {},
   "outputs": [],
   "source": [
    "df_prd = df.groupby(['SESSION_ID','SESSION_STARTTIME','PRODUCT_NAME'])['rating'].agg(['max','sum'])\n",
    "df_prd.reset_index(level=['SESSION_ID','SESSION_STARTTIME','PRODUCT_NAME'], inplace=True)\n",
    "df_prd.columns = ['SESSION_ID','SESSION_STARTTIME','PRODUCT_NAME','rating_yn','rating_sum']"
   ]
  },
  {
   "cell_type": "code",
   "execution_count": 216,
   "metadata": {},
   "outputs": [],
   "source": [
    "# Item ID 기준 - TOP 10000 / \n",
    "\n",
    "def tabular_preview(df_set, m = None, n=30):\n",
    "    \"\"\"Creates a cross-tabular view of users vs movies.\"\"\"\n",
    "    user_groups = df_set.groupby('SESSION_ID')['item'].count()\n",
    "    top_users = user_groups.sort_values(ascending=False)[:m]\n",
    "    \n",
    "    item_groups = df_set.groupby('item')['SESSION_ID'].count()\n",
    "    top_items = item_groups.sort_values(ascending=False)[:n]\n",
    "\n",
    "    top = (df_set.join(top_users, rsuffix='_r', how='inner', on='SESSION_ID').join(top_items, rsuffix='_r', how='inner', on='item'))\n",
    "\n",
    "    return pd.crosstab(top.item, top.SESSION_ID, top.rating_sum, aggfunc=np.sum)"
   ]
  },
  {
   "cell_type": "code",
   "execution_count": 266,
   "metadata": {},
   "outputs": [],
   "source": [
    "result1 = tabular_preview(df_cate2, None, 50).dropna(how='all')"
   ]
  },
  {
   "cell_type": "code",
   "execution_count": 267,
   "metadata": {},
   "outputs": [
    {
     "data": {
      "text/plain": [
       "item\n",
       "101ml~       17220.0\n",
       "31~50ml     113845.0\n",
       "51~100ml    179846.0\n",
       "~30ml        59266.0\n",
       "가방          984045.0\n",
       "건강식품        159163.0\n",
       "과자           37560.0\n",
       "구강용품         24336.0\n",
       "기초케어        977311.0\n",
       "네일케어         29916.0\n",
       "노트북/태블릿      23485.0\n",
       "단화           28912.0\n",
       "마스크/팩       189958.0\n",
       "머플러          33138.0\n",
       "모자           78501.0\n",
       "미용기기         71875.0\n",
       "바디케어        290994.0\n",
       "베이스 메이크업    449625.0\n",
       "벨트           28447.0\n",
       "부티/부츠        31541.0\n",
       "뷰티소품        127229.0\n",
       "상의          217363.0\n",
       "색조메이크업      903343.0\n",
       "샌들           29325.0\n",
       "생활가전         12227.0\n",
       "선글라스        128365.0\n",
       "선케어         104885.0\n",
       "세트           79144.0\n",
       "수영          125541.0\n",
       "스마트기기        67027.0\n",
       "스카프          37544.0\n",
       "슬리퍼          27960.0\n",
       "시계          283101.0\n",
       "아우터         165055.0\n",
       "안경           20671.0\n",
       "언더웨어         45260.0\n",
       "여행가방         67830.0\n",
       "여행소품         20344.0\n",
       "운동화         129556.0\n",
       "음료           23068.0\n",
       "음향가전         73326.0\n",
       "제습/방향/탈취     20407.0\n",
       "주얼리         434266.0\n",
       "지갑          232159.0\n",
       "카메라/캠코더      79866.0\n",
       "클렌징         170395.0\n",
       "패션소품         33620.0\n",
       "하의           40809.0\n",
       "헤어관리 기기      20392.0\n",
       "헤어케어        102752.0\n",
       "dtype: float64"
      ]
     },
     "execution_count": 267,
     "metadata": {},
     "output_type": "execute_result"
    }
   ],
   "source": [
    "result1.T.sum()"
   ]
  },
  {
   "cell_type": "code",
   "execution_count": 268,
   "metadata": {},
   "outputs": [],
   "source": [
    "result1.fillna(0, inplace=True)"
   ]
  },
  {
   "cell_type": "code",
   "execution_count": 269,
   "metadata": {},
   "outputs": [
    {
     "data": {
      "text/html": [
       "<div>\n",
       "<style scoped>\n",
       "    .dataframe tbody tr th:only-of-type {\n",
       "        vertical-align: middle;\n",
       "    }\n",
       "\n",
       "    .dataframe tbody tr th {\n",
       "        vertical-align: top;\n",
       "    }\n",
       "\n",
       "    .dataframe thead th {\n",
       "        text-align: right;\n",
       "    }\n",
       "</style>\n",
       "<table border=\"1\" class=\"dataframe\">\n",
       "  <thead>\n",
       "    <tr style=\"text-align: right;\">\n",
       "      <th>SESSION_ID</th>\n",
       "      <th>1000002421.1557827893.1576559442</th>\n",
       "      <th>1000008530.1577581491.1577581491</th>\n",
       "      <th>100001056.1577249393.1577251736</th>\n",
       "      <th>100001056.1577249393.1577289750</th>\n",
       "      <th>1000013010.1575904017.1575904016</th>\n",
       "      <th>1000013010.1575904017.1575904721</th>\n",
       "      <th>1000013450.1575959059.1575959061</th>\n",
       "      <th>1000013450.1575959059.1575977759</th>\n",
       "      <th>1000013450.1575959059.1575986860</th>\n",
       "      <th>1000013565.1577291147.1577291150</th>\n",
       "      <th>...</th>\n",
       "      <th>999993623.1575762395.1575762397</th>\n",
       "      <th>999993623.1575762395.1575778135</th>\n",
       "      <th>999993623.1575762395.1575784437</th>\n",
       "      <th>999995106.1554195427.1576650015</th>\n",
       "      <th>999995106.1554195427.1577321077</th>\n",
       "      <th>999995241.1576990472.1576990472</th>\n",
       "      <th>999997018.1576074470.1576074470</th>\n",
       "      <th>999998858.1574735563.1575351401</th>\n",
       "      <th>999998858.1574735563.1575422892</th>\n",
       "      <th>999998858.1574735563.1575430321</th>\n",
       "    </tr>\n",
       "    <tr>\n",
       "      <th>item</th>\n",
       "      <th></th>\n",
       "      <th></th>\n",
       "      <th></th>\n",
       "      <th></th>\n",
       "      <th></th>\n",
       "      <th></th>\n",
       "      <th></th>\n",
       "      <th></th>\n",
       "      <th></th>\n",
       "      <th></th>\n",
       "      <th></th>\n",
       "      <th></th>\n",
       "      <th></th>\n",
       "      <th></th>\n",
       "      <th></th>\n",
       "      <th></th>\n",
       "      <th></th>\n",
       "      <th></th>\n",
       "      <th></th>\n",
       "      <th></th>\n",
       "      <th></th>\n",
       "    </tr>\n",
       "  </thead>\n",
       "  <tbody>\n",
       "    <tr>\n",
       "      <th>101ml~</th>\n",
       "      <td>0.0</td>\n",
       "      <td>0.0</td>\n",
       "      <td>0.0</td>\n",
       "      <td>0.0</td>\n",
       "      <td>0.0</td>\n",
       "      <td>0.0</td>\n",
       "      <td>0.0</td>\n",
       "      <td>0.0</td>\n",
       "      <td>0.0</td>\n",
       "      <td>0.0</td>\n",
       "      <td>...</td>\n",
       "      <td>0.0</td>\n",
       "      <td>0.0</td>\n",
       "      <td>0.0</td>\n",
       "      <td>0.0</td>\n",
       "      <td>0.0</td>\n",
       "      <td>0.0</td>\n",
       "      <td>0.0</td>\n",
       "      <td>0.0</td>\n",
       "      <td>0.0</td>\n",
       "      <td>0.0</td>\n",
       "    </tr>\n",
       "    <tr>\n",
       "      <th>31~50ml</th>\n",
       "      <td>0.0</td>\n",
       "      <td>0.0</td>\n",
       "      <td>0.0</td>\n",
       "      <td>0.0</td>\n",
       "      <td>0.0</td>\n",
       "      <td>0.0</td>\n",
       "      <td>0.0</td>\n",
       "      <td>0.0</td>\n",
       "      <td>0.0</td>\n",
       "      <td>0.0</td>\n",
       "      <td>...</td>\n",
       "      <td>0.0</td>\n",
       "      <td>0.0</td>\n",
       "      <td>0.0</td>\n",
       "      <td>0.0</td>\n",
       "      <td>0.0</td>\n",
       "      <td>0.0</td>\n",
       "      <td>2.0</td>\n",
       "      <td>0.0</td>\n",
       "      <td>0.0</td>\n",
       "      <td>0.0</td>\n",
       "    </tr>\n",
       "    <tr>\n",
       "      <th>51~100ml</th>\n",
       "      <td>0.0</td>\n",
       "      <td>0.0</td>\n",
       "      <td>0.0</td>\n",
       "      <td>0.0</td>\n",
       "      <td>0.0</td>\n",
       "      <td>0.0</td>\n",
       "      <td>1.0</td>\n",
       "      <td>2.0</td>\n",
       "      <td>2.0</td>\n",
       "      <td>0.0</td>\n",
       "      <td>...</td>\n",
       "      <td>0.0</td>\n",
       "      <td>0.0</td>\n",
       "      <td>0.0</td>\n",
       "      <td>0.0</td>\n",
       "      <td>0.0</td>\n",
       "      <td>0.0</td>\n",
       "      <td>1.0</td>\n",
       "      <td>0.0</td>\n",
       "      <td>0.0</td>\n",
       "      <td>0.0</td>\n",
       "    </tr>\n",
       "  </tbody>\n",
       "</table>\n",
       "<p>3 rows × 1522081 columns</p>\n",
       "</div>"
      ],
      "text/plain": [
       "SESSION_ID  1000002421.1557827893.1576559442  \\\n",
       "item                                           \n",
       "101ml~                                   0.0   \n",
       "31~50ml                                  0.0   \n",
       "51~100ml                                 0.0   \n",
       "\n",
       "SESSION_ID  1000008530.1577581491.1577581491  100001056.1577249393.1577251736  \\\n",
       "item                                                                            \n",
       "101ml~                                   0.0                              0.0   \n",
       "31~50ml                                  0.0                              0.0   \n",
       "51~100ml                                 0.0                              0.0   \n",
       "\n",
       "SESSION_ID  100001056.1577249393.1577289750  1000013010.1575904017.1575904016  \\\n",
       "item                                                                            \n",
       "101ml~                                  0.0                               0.0   \n",
       "31~50ml                                 0.0                               0.0   \n",
       "51~100ml                                0.0                               0.0   \n",
       "\n",
       "SESSION_ID  1000013010.1575904017.1575904721  \\\n",
       "item                                           \n",
       "101ml~                                   0.0   \n",
       "31~50ml                                  0.0   \n",
       "51~100ml                                 0.0   \n",
       "\n",
       "SESSION_ID  1000013450.1575959059.1575959061  \\\n",
       "item                                           \n",
       "101ml~                                   0.0   \n",
       "31~50ml                                  0.0   \n",
       "51~100ml                                 1.0   \n",
       "\n",
       "SESSION_ID  1000013450.1575959059.1575977759  \\\n",
       "item                                           \n",
       "101ml~                                   0.0   \n",
       "31~50ml                                  0.0   \n",
       "51~100ml                                 2.0   \n",
       "\n",
       "SESSION_ID  1000013450.1575959059.1575986860  \\\n",
       "item                                           \n",
       "101ml~                                   0.0   \n",
       "31~50ml                                  0.0   \n",
       "51~100ml                                 2.0   \n",
       "\n",
       "SESSION_ID  1000013565.1577291147.1577291150  ...  \\\n",
       "item                                          ...   \n",
       "101ml~                                   0.0  ...   \n",
       "31~50ml                                  0.0  ...   \n",
       "51~100ml                                 0.0  ...   \n",
       "\n",
       "SESSION_ID  999993623.1575762395.1575762397  999993623.1575762395.1575778135  \\\n",
       "item                                                                           \n",
       "101ml~                                  0.0                              0.0   \n",
       "31~50ml                                 0.0                              0.0   \n",
       "51~100ml                                0.0                              0.0   \n",
       "\n",
       "SESSION_ID  999993623.1575762395.1575784437  999995106.1554195427.1576650015  \\\n",
       "item                                                                           \n",
       "101ml~                                  0.0                              0.0   \n",
       "31~50ml                                 0.0                              0.0   \n",
       "51~100ml                                0.0                              0.0   \n",
       "\n",
       "SESSION_ID  999995106.1554195427.1577321077  999995241.1576990472.1576990472  \\\n",
       "item                                                                           \n",
       "101ml~                                  0.0                              0.0   \n",
       "31~50ml                                 0.0                              0.0   \n",
       "51~100ml                                0.0                              0.0   \n",
       "\n",
       "SESSION_ID  999997018.1576074470.1576074470  999998858.1574735563.1575351401  \\\n",
       "item                                                                           \n",
       "101ml~                                  0.0                              0.0   \n",
       "31~50ml                                 2.0                              0.0   \n",
       "51~100ml                                1.0                              0.0   \n",
       "\n",
       "SESSION_ID  999998858.1574735563.1575422892  999998858.1574735563.1575430321  \n",
       "item                                                                          \n",
       "101ml~                                  0.0                              0.0  \n",
       "31~50ml                                 0.0                              0.0  \n",
       "51~100ml                                0.0                              0.0  \n",
       "\n",
       "[3 rows x 1522081 columns]"
      ]
     },
     "execution_count": 269,
     "metadata": {},
     "output_type": "execute_result"
    }
   ],
   "source": [
    "result1.head(3)"
   ]
  },
  {
   "cell_type": "code",
   "execution_count": 270,
   "metadata": {},
   "outputs": [],
   "source": [
    "from sklearn.metrics.pairwise import cosine_similarity\n",
    "result_collabor = cosine_similarity(result1)"
   ]
  },
  {
   "cell_type": "markdown",
   "metadata": {},
   "source": [
    "# Collaborative filtering "
   ]
  },
  {
   "cell_type": "code",
   "execution_count": 271,
   "metadata": {},
   "outputs": [],
   "source": [
    "result_collabor = pd.DataFrame(data = result_collabor, index = result1.index , columns = result1.index )"
   ]
  },
  {
   "cell_type": "code",
   "execution_count": 272,
   "metadata": {},
   "outputs": [
    {
     "data": {
      "text/html": [
       "<div>\n",
       "<style scoped>\n",
       "    .dataframe tbody tr th:only-of-type {\n",
       "        vertical-align: middle;\n",
       "    }\n",
       "\n",
       "    .dataframe tbody tr th {\n",
       "        vertical-align: top;\n",
       "    }\n",
       "\n",
       "    .dataframe thead th {\n",
       "        text-align: right;\n",
       "    }\n",
       "</style>\n",
       "<table border=\"1\" class=\"dataframe\">\n",
       "  <thead>\n",
       "    <tr style=\"text-align: right;\">\n",
       "      <th>item</th>\n",
       "      <th>101ml~</th>\n",
       "      <th>31~50ml</th>\n",
       "      <th>51~100ml</th>\n",
       "      <th>~30ml</th>\n",
       "      <th>가방</th>\n",
       "      <th>건강식품</th>\n",
       "      <th>과자</th>\n",
       "      <th>구강용품</th>\n",
       "      <th>기초케어</th>\n",
       "      <th>네일케어</th>\n",
       "      <th>...</th>\n",
       "      <th>음향가전</th>\n",
       "      <th>제습/방향/탈취</th>\n",
       "      <th>주얼리</th>\n",
       "      <th>지갑</th>\n",
       "      <th>카메라/캠코더</th>\n",
       "      <th>클렌징</th>\n",
       "      <th>패션소품</th>\n",
       "      <th>하의</th>\n",
       "      <th>헤어관리 기기</th>\n",
       "      <th>헤어케어</th>\n",
       "    </tr>\n",
       "    <tr>\n",
       "      <th>item</th>\n",
       "      <th></th>\n",
       "      <th></th>\n",
       "      <th></th>\n",
       "      <th></th>\n",
       "      <th></th>\n",
       "      <th></th>\n",
       "      <th></th>\n",
       "      <th></th>\n",
       "      <th></th>\n",
       "      <th></th>\n",
       "      <th></th>\n",
       "      <th></th>\n",
       "      <th></th>\n",
       "      <th></th>\n",
       "      <th></th>\n",
       "      <th></th>\n",
       "      <th></th>\n",
       "      <th></th>\n",
       "      <th></th>\n",
       "      <th></th>\n",
       "      <th></th>\n",
       "    </tr>\n",
       "  </thead>\n",
       "  <tbody>\n",
       "    <tr>\n",
       "      <th>101ml~</th>\n",
       "      <td>1.000000</td>\n",
       "      <td>0.234669</td>\n",
       "      <td>0.268553</td>\n",
       "      <td>0.102939</td>\n",
       "      <td>0.006216</td>\n",
       "      <td>0.004426</td>\n",
       "      <td>0.002694</td>\n",
       "      <td>0.051364</td>\n",
       "      <td>0.073375</td>\n",
       "      <td>0.026233</td>\n",
       "      <td>...</td>\n",
       "      <td>0.001831</td>\n",
       "      <td>0.016380</td>\n",
       "      <td>0.005232</td>\n",
       "      <td>0.004242</td>\n",
       "      <td>0.001274</td>\n",
       "      <td>0.035932</td>\n",
       "      <td>0.002665</td>\n",
       "      <td>0.001726</td>\n",
       "      <td>0.026818</td>\n",
       "      <td>0.091256</td>\n",
       "    </tr>\n",
       "    <tr>\n",
       "      <th>31~50ml</th>\n",
       "      <td>0.234669</td>\n",
       "      <td>1.000000</td>\n",
       "      <td>0.441933</td>\n",
       "      <td>0.266329</td>\n",
       "      <td>0.016566</td>\n",
       "      <td>0.013380</td>\n",
       "      <td>0.008251</td>\n",
       "      <td>0.111415</td>\n",
       "      <td>0.157370</td>\n",
       "      <td>0.040693</td>\n",
       "      <td>...</td>\n",
       "      <td>0.007084</td>\n",
       "      <td>0.035761</td>\n",
       "      <td>0.015777</td>\n",
       "      <td>0.011302</td>\n",
       "      <td>0.003083</td>\n",
       "      <td>0.087094</td>\n",
       "      <td>0.005612</td>\n",
       "      <td>0.004451</td>\n",
       "      <td>0.062838</td>\n",
       "      <td>0.186407</td>\n",
       "    </tr>\n",
       "    <tr>\n",
       "      <th>51~100ml</th>\n",
       "      <td>0.268553</td>\n",
       "      <td>0.441933</td>\n",
       "      <td>1.000000</td>\n",
       "      <td>0.272405</td>\n",
       "      <td>0.020336</td>\n",
       "      <td>0.019441</td>\n",
       "      <td>0.008938</td>\n",
       "      <td>0.127093</td>\n",
       "      <td>0.182649</td>\n",
       "      <td>0.043651</td>\n",
       "      <td>...</td>\n",
       "      <td>0.010512</td>\n",
       "      <td>0.051673</td>\n",
       "      <td>0.019839</td>\n",
       "      <td>0.012099</td>\n",
       "      <td>0.005547</td>\n",
       "      <td>0.100834</td>\n",
       "      <td>0.007355</td>\n",
       "      <td>0.004944</td>\n",
       "      <td>0.066502</td>\n",
       "      <td>0.220183</td>\n",
       "    </tr>\n",
       "  </tbody>\n",
       "</table>\n",
       "<p>3 rows × 50 columns</p>\n",
       "</div>"
      ],
      "text/plain": [
       "item        101ml~   31~50ml  51~100ml     ~30ml        가방      건강식품  \\\n",
       "item                                                                   \n",
       "101ml~    1.000000  0.234669  0.268553  0.102939  0.006216  0.004426   \n",
       "31~50ml   0.234669  1.000000  0.441933  0.266329  0.016566  0.013380   \n",
       "51~100ml  0.268553  0.441933  1.000000  0.272405  0.020336  0.019441   \n",
       "\n",
       "item            과자      구강용품      기초케어      네일케어  ...      음향가전  제습/방향/탈취  \\\n",
       "item                                              ...                       \n",
       "101ml~    0.002694  0.051364  0.073375  0.026233  ...  0.001831  0.016380   \n",
       "31~50ml   0.008251  0.111415  0.157370  0.040693  ...  0.007084  0.035761   \n",
       "51~100ml  0.008938  0.127093  0.182649  0.043651  ...  0.010512  0.051673   \n",
       "\n",
       "item           주얼리        지갑   카메라/캠코더       클렌징      패션소품        하의  \\\n",
       "item                                                                   \n",
       "101ml~    0.005232  0.004242  0.001274  0.035932  0.002665  0.001726   \n",
       "31~50ml   0.015777  0.011302  0.003083  0.087094  0.005612  0.004451   \n",
       "51~100ml  0.019839  0.012099  0.005547  0.100834  0.007355  0.004944   \n",
       "\n",
       "item       헤어관리 기기      헤어케어  \n",
       "item                          \n",
       "101ml~    0.026818  0.091256  \n",
       "31~50ml   0.062838  0.186407  \n",
       "51~100ml  0.066502  0.220183  \n",
       "\n",
       "[3 rows x 50 columns]"
      ]
     },
     "execution_count": 272,
     "metadata": {},
     "output_type": "execute_result"
    }
   ],
   "source": [
    "result_collabor.head(3)"
   ]
  },
  {
   "cell_type": "code",
   "execution_count": 273,
   "metadata": {},
   "outputs": [],
   "source": [
    "def get_item_based_collabor(item):\n",
    "    return result_collabor[item].sort_values(ascending=False)[:10]"
   ]
  },
  {
   "cell_type": "code",
   "execution_count": 259,
   "metadata": {},
   "outputs": [
    {
     "data": {
      "text/html": [
       "<div>\n",
       "<style scoped>\n",
       "    .dataframe tbody tr th:only-of-type {\n",
       "        vertical-align: middle;\n",
       "    }\n",
       "\n",
       "    .dataframe tbody tr th {\n",
       "        vertical-align: top;\n",
       "    }\n",
       "\n",
       "    .dataframe thead th {\n",
       "        text-align: right;\n",
       "    }\n",
       "</style>\n",
       "<table border=\"1\" class=\"dataframe\">\n",
       "  <thead>\n",
       "    <tr style=\"text-align: right;\">\n",
       "      <th>item</th>\n",
       "      <th>국내_가방/지갑</th>\n",
       "      <th>국내_메이크업</th>\n",
       "      <th>국내_문구/취미</th>\n",
       "      <th>국내_바디/헤어</th>\n",
       "      <th>국내_생활/주방용품</th>\n",
       "      <th>국내_스킨케어</th>\n",
       "      <th>국내_스포츠/레저</th>\n",
       "      <th>국내_시계/주얼리</th>\n",
       "      <th>국내_식품</th>\n",
       "      <th>국내_신발</th>\n",
       "      <th>...</th>\n",
       "      <th>해외_스포츠/레저</th>\n",
       "      <th>해외_시계/주얼리</th>\n",
       "      <th>해외_식품</th>\n",
       "      <th>해외_신발</th>\n",
       "      <th>해외_유아동</th>\n",
       "      <th>해외_의류</th>\n",
       "      <th>해외_전자제품</th>\n",
       "      <th>해외_패션액세서리</th>\n",
       "      <th>해외_패션잡화</th>\n",
       "      <th>해외_향수</th>\n",
       "    </tr>\n",
       "    <tr>\n",
       "      <th>item</th>\n",
       "      <th></th>\n",
       "      <th></th>\n",
       "      <th></th>\n",
       "      <th></th>\n",
       "      <th></th>\n",
       "      <th></th>\n",
       "      <th></th>\n",
       "      <th></th>\n",
       "      <th></th>\n",
       "      <th></th>\n",
       "      <th></th>\n",
       "      <th></th>\n",
       "      <th></th>\n",
       "      <th></th>\n",
       "      <th></th>\n",
       "      <th></th>\n",
       "      <th></th>\n",
       "      <th></th>\n",
       "      <th></th>\n",
       "      <th></th>\n",
       "      <th></th>\n",
       "    </tr>\n",
       "  </thead>\n",
       "  <tbody>\n",
       "    <tr>\n",
       "      <th>국내_가방/지갑</th>\n",
       "      <td>1.000000</td>\n",
       "      <td>0.034832</td>\n",
       "      <td>0.022561</td>\n",
       "      <td>0.014771</td>\n",
       "      <td>0.017447</td>\n",
       "      <td>0.027924</td>\n",
       "      <td>0.024355</td>\n",
       "      <td>0.050129</td>\n",
       "      <td>0.021694</td>\n",
       "      <td>0.028963</td>\n",
       "      <td>...</td>\n",
       "      <td>0.008865</td>\n",
       "      <td>0.049120</td>\n",
       "      <td>0.028801</td>\n",
       "      <td>0.034815</td>\n",
       "      <td>0.007620</td>\n",
       "      <td>0.020893</td>\n",
       "      <td>0.017150</td>\n",
       "      <td>0.006485</td>\n",
       "      <td>0.037036</td>\n",
       "      <td>0.024018</td>\n",
       "    </tr>\n",
       "    <tr>\n",
       "      <th>국내_메이크업</th>\n",
       "      <td>0.034832</td>\n",
       "      <td>1.000000</td>\n",
       "      <td>0.015256</td>\n",
       "      <td>0.167240</td>\n",
       "      <td>0.017314</td>\n",
       "      <td>0.288517</td>\n",
       "      <td>0.012153</td>\n",
       "      <td>0.026512</td>\n",
       "      <td>0.023212</td>\n",
       "      <td>0.011206</td>\n",
       "      <td>...</td>\n",
       "      <td>0.005494</td>\n",
       "      <td>0.021094</td>\n",
       "      <td>0.027590</td>\n",
       "      <td>0.015408</td>\n",
       "      <td>0.006020</td>\n",
       "      <td>0.011640</td>\n",
       "      <td>0.011590</td>\n",
       "      <td>0.004088</td>\n",
       "      <td>0.016225</td>\n",
       "      <td>0.186277</td>\n",
       "    </tr>\n",
       "    <tr>\n",
       "      <th>국내_문구/취미</th>\n",
       "      <td>0.022561</td>\n",
       "      <td>0.015256</td>\n",
       "      <td>1.000000</td>\n",
       "      <td>0.022543</td>\n",
       "      <td>0.047830</td>\n",
       "      <td>0.014540</td>\n",
       "      <td>0.006087</td>\n",
       "      <td>0.010063</td>\n",
       "      <td>0.016671</td>\n",
       "      <td>0.011279</td>\n",
       "      <td>...</td>\n",
       "      <td>0.003657</td>\n",
       "      <td>0.007831</td>\n",
       "      <td>0.018344</td>\n",
       "      <td>0.013181</td>\n",
       "      <td>0.007012</td>\n",
       "      <td>0.008434</td>\n",
       "      <td>0.007189</td>\n",
       "      <td>0.002429</td>\n",
       "      <td>0.012017</td>\n",
       "      <td>0.006365</td>\n",
       "    </tr>\n",
       "  </tbody>\n",
       "</table>\n",
       "<p>3 rows × 33 columns</p>\n",
       "</div>"
      ],
      "text/plain": [
       "item      국내_가방/지갑   국내_메이크업  국내_문구/취미  국내_바디/헤어  국내_생활/주방용품   국내_스킨케어  \\\n",
       "item                                                                     \n",
       "국내_가방/지갑  1.000000  0.034832  0.022561  0.014771    0.017447  0.027924   \n",
       "국내_메이크업   0.034832  1.000000  0.015256  0.167240    0.017314  0.288517   \n",
       "국내_문구/취미  0.022561  0.015256  1.000000  0.022543    0.047830  0.014540   \n",
       "\n",
       "item      국내_스포츠/레저  국내_시계/주얼리     국내_식품     국내_신발  ...  해외_스포츠/레저  해외_시계/주얼리  \\\n",
       "item                                                ...                         \n",
       "국내_가방/지갑   0.024355   0.050129  0.021694  0.028963  ...   0.008865   0.049120   \n",
       "국내_메이크업    0.012153   0.026512  0.023212  0.011206  ...   0.005494   0.021094   \n",
       "국내_문구/취미   0.006087   0.010063  0.016671  0.011279  ...   0.003657   0.007831   \n",
       "\n",
       "item         해외_식품     해외_신발    해외_유아동     해외_의류   해외_전자제품  해외_패션액세서리  \\\n",
       "item                                                                    \n",
       "국내_가방/지갑  0.028801  0.034815  0.007620  0.020893  0.017150   0.006485   \n",
       "국내_메이크업   0.027590  0.015408  0.006020  0.011640  0.011590   0.004088   \n",
       "국내_문구/취미  0.018344  0.013181  0.007012  0.008434  0.007189   0.002429   \n",
       "\n",
       "item       해외_패션잡화     해외_향수  \n",
       "item                          \n",
       "국내_가방/지갑  0.037036  0.024018  \n",
       "국내_메이크업   0.016225  0.186277  \n",
       "국내_문구/취미  0.012017  0.006365  \n",
       "\n",
       "[3 rows x 33 columns]"
      ]
     },
     "execution_count": 259,
     "metadata": {},
     "output_type": "execute_result"
    }
   ],
   "source": [
    "result_collabor.head(3)"
   ]
  },
  {
   "cell_type": "code",
   "execution_count": 261,
   "metadata": {},
   "outputs": [
    {
     "data": {
      "text/plain": [
       "item\n",
       "국내_가방/지갑     1.000000\n",
       "해외_가방/지갑     0.259687\n",
       "국내_패션잡화      0.081975\n",
       "해외_메이크업      0.057305\n",
       "국내_의류        0.051191\n",
       "국내_시계/주얼리    0.050129\n",
       "해외_시계/주얼리    0.049120\n",
       "해외_패션잡화      0.037036\n",
       "국내_메이크업      0.034832\n",
       "해외_신발        0.034815\n",
       "Name: 국내_가방/지갑, dtype: float64"
      ]
     },
     "execution_count": 261,
     "metadata": {},
     "output_type": "execute_result"
    }
   ],
   "source": [
    "get_item_based_collabor('국내_가방/지갑')"
   ]
  },
  {
   "cell_type": "code",
   "execution_count": 262,
   "metadata": {},
   "outputs": [
    {
     "data": {
      "text/plain": [
       "item\n",
       "국내_스킨케어     1.000000\n",
       "해외_스킨케어     0.521390\n",
       "국내_메이크업     0.288517\n",
       "해외_메이크업     0.235883\n",
       "해외_바디/헤어    0.231707\n",
       "국내_바디/헤어    0.224640\n",
       "해외_향수       0.198852\n",
       "국내_향수       0.057901\n",
       "해외_식품       0.041781\n",
       "국내_식품       0.037786\n",
       "Name: 국내_스킨케어, dtype: float64"
      ]
     },
     "execution_count": 262,
     "metadata": {},
     "output_type": "execute_result"
    }
   ],
   "source": [
    "get_item_based_collabor('국내_스킨케어')"
   ]
  },
  {
   "cell_type": "code",
   "execution_count": 263,
   "metadata": {},
   "outputs": [
    {
     "data": {
      "text/plain": [
       "<matplotlib.axes._subplots.AxesSubplot at 0x2734bcd7748>"
      ]
     },
     "execution_count": 263,
     "metadata": {},
     "output_type": "execute_result"
    },
    {
     "data": {
      "image/png": "[encoded data removed]",
      "text/plain": [
       "<Figure size 1080x720 with 2 Axes>"
      ]
     },
     "metadata": {
      "needs_background": "light"
     },
     "output_type": "display_data"
    }
   ],
   "source": [
    "plt.rcParams['font.family'] = 'NanumGothic'\n",
    "import matplotlib.pyplot as plt\n",
    "plt.figure(figsize=(15,10))\n",
    "import seaborn as sns\n",
    "sns.heatmap(result_collabor)"
   ]
  },
  {
   "cell_type": "code",
   "execution_count": 264,
   "metadata": {},
   "outputs": [],
   "source": [
    "# category2 항목별 "
   ]
  },
  {
   "cell_type": "code",
   "execution_count": 274,
   "metadata": {},
   "outputs": [
    {
     "data": {
      "text/html": [
       "<div>\n",
       "<style scoped>\n",
       "    .dataframe tbody tr th:only-of-type {\n",
       "        vertical-align: middle;\n",
       "    }\n",
       "\n",
       "    .dataframe tbody tr th {\n",
       "        vertical-align: top;\n",
       "    }\n",
       "\n",
       "    .dataframe thead th {\n",
       "        text-align: right;\n",
       "    }\n",
       "</style>\n",
       "<table border=\"1\" class=\"dataframe\">\n",
       "  <thead>\n",
       "    <tr style=\"text-align: right;\">\n",
       "      <th>item</th>\n",
       "      <th>101ml~</th>\n",
       "      <th>31~50ml</th>\n",
       "      <th>51~100ml</th>\n",
       "      <th>~30ml</th>\n",
       "      <th>가방</th>\n",
       "      <th>건강식품</th>\n",
       "      <th>과자</th>\n",
       "      <th>구강용품</th>\n",
       "      <th>기초케어</th>\n",
       "      <th>네일케어</th>\n",
       "      <th>...</th>\n",
       "      <th>음향가전</th>\n",
       "      <th>제습/방향/탈취</th>\n",
       "      <th>주얼리</th>\n",
       "      <th>지갑</th>\n",
       "      <th>카메라/캠코더</th>\n",
       "      <th>클렌징</th>\n",
       "      <th>패션소품</th>\n",
       "      <th>하의</th>\n",
       "      <th>헤어관리 기기</th>\n",
       "      <th>헤어케어</th>\n",
       "    </tr>\n",
       "    <tr>\n",
       "      <th>item</th>\n",
       "      <th></th>\n",
       "      <th></th>\n",
       "      <th></th>\n",
       "      <th></th>\n",
       "      <th></th>\n",
       "      <th></th>\n",
       "      <th></th>\n",
       "      <th></th>\n",
       "      <th></th>\n",
       "      <th></th>\n",
       "      <th></th>\n",
       "      <th></th>\n",
       "      <th></th>\n",
       "      <th></th>\n",
       "      <th></th>\n",
       "      <th></th>\n",
       "      <th></th>\n",
       "      <th></th>\n",
       "      <th></th>\n",
       "      <th></th>\n",
       "      <th></th>\n",
       "    </tr>\n",
       "  </thead>\n",
       "  <tbody>\n",
       "    <tr>\n",
       "      <th>101ml~</th>\n",
       "      <td>1.000000</td>\n",
       "      <td>0.234669</td>\n",
       "      <td>0.268553</td>\n",
       "      <td>0.102939</td>\n",
       "      <td>0.006216</td>\n",
       "      <td>0.004426</td>\n",
       "      <td>0.002694</td>\n",
       "      <td>0.051364</td>\n",
       "      <td>0.073375</td>\n",
       "      <td>0.026233</td>\n",
       "      <td>...</td>\n",
       "      <td>0.001831</td>\n",
       "      <td>0.016380</td>\n",
       "      <td>0.005232</td>\n",
       "      <td>0.004242</td>\n",
       "      <td>0.001274</td>\n",
       "      <td>0.035932</td>\n",
       "      <td>0.002665</td>\n",
       "      <td>0.001726</td>\n",
       "      <td>0.026818</td>\n",
       "      <td>0.091256</td>\n",
       "    </tr>\n",
       "    <tr>\n",
       "      <th>31~50ml</th>\n",
       "      <td>0.234669</td>\n",
       "      <td>1.000000</td>\n",
       "      <td>0.441933</td>\n",
       "      <td>0.266329</td>\n",
       "      <td>0.016566</td>\n",
       "      <td>0.013380</td>\n",
       "      <td>0.008251</td>\n",
       "      <td>0.111415</td>\n",
       "      <td>0.157370</td>\n",
       "      <td>0.040693</td>\n",
       "      <td>...</td>\n",
       "      <td>0.007084</td>\n",
       "      <td>0.035761</td>\n",
       "      <td>0.015777</td>\n",
       "      <td>0.011302</td>\n",
       "      <td>0.003083</td>\n",
       "      <td>0.087094</td>\n",
       "      <td>0.005612</td>\n",
       "      <td>0.004451</td>\n",
       "      <td>0.062838</td>\n",
       "      <td>0.186407</td>\n",
       "    </tr>\n",
       "    <tr>\n",
       "      <th>51~100ml</th>\n",
       "      <td>0.268553</td>\n",
       "      <td>0.441933</td>\n",
       "      <td>1.000000</td>\n",
       "      <td>0.272405</td>\n",
       "      <td>0.020336</td>\n",
       "      <td>0.019441</td>\n",
       "      <td>0.008938</td>\n",
       "      <td>0.127093</td>\n",
       "      <td>0.182649</td>\n",
       "      <td>0.043651</td>\n",
       "      <td>...</td>\n",
       "      <td>0.010512</td>\n",
       "      <td>0.051673</td>\n",
       "      <td>0.019839</td>\n",
       "      <td>0.012099</td>\n",
       "      <td>0.005547</td>\n",
       "      <td>0.100834</td>\n",
       "      <td>0.007355</td>\n",
       "      <td>0.004944</td>\n",
       "      <td>0.066502</td>\n",
       "      <td>0.220183</td>\n",
       "    </tr>\n",
       "  </tbody>\n",
       "</table>\n",
       "<p>3 rows × 50 columns</p>\n",
       "</div>"
      ],
      "text/plain": [
       "item        101ml~   31~50ml  51~100ml     ~30ml        가방      건강식품  \\\n",
       "item                                                                   \n",
       "101ml~    1.000000  0.234669  0.268553  0.102939  0.006216  0.004426   \n",
       "31~50ml   0.234669  1.000000  0.441933  0.266329  0.016566  0.013380   \n",
       "51~100ml  0.268553  0.441933  1.000000  0.272405  0.020336  0.019441   \n",
       "\n",
       "item            과자      구강용품      기초케어      네일케어  ...      음향가전  제습/방향/탈취  \\\n",
       "item                                              ...                       \n",
       "101ml~    0.002694  0.051364  0.073375  0.026233  ...  0.001831  0.016380   \n",
       "31~50ml   0.008251  0.111415  0.157370  0.040693  ...  0.007084  0.035761   \n",
       "51~100ml  0.008938  0.127093  0.182649  0.043651  ...  0.010512  0.051673   \n",
       "\n",
       "item           주얼리        지갑   카메라/캠코더       클렌징      패션소품        하의  \\\n",
       "item                                                                   \n",
       "101ml~    0.005232  0.004242  0.001274  0.035932  0.002665  0.001726   \n",
       "31~50ml   0.015777  0.011302  0.003083  0.087094  0.005612  0.004451   \n",
       "51~100ml  0.019839  0.012099  0.005547  0.100834  0.007355  0.004944   \n",
       "\n",
       "item       헤어관리 기기      헤어케어  \n",
       "item                          \n",
       "101ml~    0.026818  0.091256  \n",
       "31~50ml   0.062838  0.186407  \n",
       "51~100ml  0.066502  0.220183  \n",
       "\n",
       "[3 rows x 50 columns]"
      ]
     },
     "execution_count": 274,
     "metadata": {},
     "output_type": "execute_result"
    }
   ],
   "source": [
    "result_collabor.head(3)"
   ]
  },
  {
   "cell_type": "code",
   "execution_count": 275,
   "metadata": {},
   "outputs": [
    {
     "data": {
      "text/plain": [
       "item\n",
       "가방          1.000000\n",
       "패션소품        0.104117\n",
       "지갑          0.092062\n",
       "여행가방        0.063352\n",
       "주얼리         0.061562\n",
       "색조메이크업      0.054452\n",
       "상의          0.053433\n",
       "베이스 메이크업    0.042767\n",
       "아우터         0.040389\n",
       "운동화         0.039031\n",
       "Name: 가방, dtype: float64"
      ]
     },
     "execution_count": 275,
     "metadata": {},
     "output_type": "execute_result"
    }
   ],
   "source": [
    "get_item_based_collabor('가방')"
   ]
  },
  {
   "cell_type": "code",
   "execution_count": 276,
   "metadata": {},
   "outputs": [
    {
     "data": {
      "text/plain": [
       "item\n",
       "지갑          1.000000\n",
       "가방          0.092062\n",
       "패션소품        0.054379\n",
       "색조메이크업      0.029404\n",
       "주얼리         0.029323\n",
       "여행소품        0.029237\n",
       "시계          0.021750\n",
       "여행가방        0.021169\n",
       "벨트          0.020143\n",
       "베이스 메이크업    0.019541\n",
       "Name: 지갑, dtype: float64"
      ]
     },
     "execution_count": 276,
     "metadata": {},
     "output_type": "execute_result"
    }
   ],
   "source": [
    "get_item_based_collabor('지갑')"
   ]
  },
  {
   "cell_type": "code",
   "execution_count": 277,
   "metadata": {},
   "outputs": [
    {
     "data": {
      "text/plain": [
       "<matplotlib.axes._subplots.AxesSubplot at 0x274d2adb160>"
      ]
     },
     "execution_count": 277,
     "metadata": {},
     "output_type": "execute_result"
    },
    {
     "data": {
      "image/png": "[encoded data removed]",
      "text/plain": [
       "<Figure size 1080x720 with 2 Axes>"
      ]
     },
     "metadata": {
      "needs_background": "light"
     },
     "output_type": "display_data"
    }
   ],
   "source": [
    "plt.rcParams['font.family'] = 'NanumGothic'\n",
    "import matplotlib.pyplot as plt\n",
    "plt.figure(figsize=(15,10))\n",
    "import seaborn as sns\n",
    "sns.heatmap(result_collabor)"
   ]
  },
  {
   "cell_type": "code",
   "execution_count": null,
   "metadata": {},
   "outputs": [],
   "source": []
  },
  {
   "cell_type": "markdown",
   "metadata": {},
   "source": [
    "# Matrix Factorization "
   ]
  },
  {
   "cell_type": "code",
   "execution_count": 1,
   "metadata": {},
   "outputs": [
    {
     "name": "stderr",
     "output_type": "stream",
     "text": [
      "C:\\ProgramData\\Anaconda3\\lib\\site-packages\\IPython\\core\\interactiveshell.py:3063: DtypeWarning: Columns (2,7) have mixed types.Specify dtype option on import or set low_memory=False.\n",
      "  interactivity=interactivity, compiler=compiler, result=result)\n"
     ]
    }
   ],
   "source": [
    "import pandas as pd \n",
    "import numpy as np \n",
    "df = pd.read_csv('df_log_201912_v1.csv')"
   ]
  },
  {
   "cell_type": "code",
   "execution_count": 2,
   "metadata": {},
   "outputs": [
    {
     "data": {
      "text/html": [
       "<div>\n",
       "<style scoped>\n",
       "    .dataframe tbody tr th:only-of-type {\n",
       "        vertical-align: middle;\n",
       "    }\n",
       "\n",
       "    .dataframe tbody tr th {\n",
       "        vertical-align: top;\n",
       "    }\n",
       "\n",
       "    .dataframe thead th {\n",
       "        text-align: right;\n",
       "    }\n",
       "</style>\n",
       "<table border=\"1\" class=\"dataframe\">\n",
       "  <thead>\n",
       "    <tr style=\"text-align: right;\">\n",
       "      <th></th>\n",
       "      <th>DATE</th>\n",
       "      <th>SESSION_ID</th>\n",
       "      <th>UID</th>\n",
       "      <th>SESSION_STARTTIME</th>\n",
       "      <th>VIEW_STARTTIME</th>\n",
       "      <th>PAGE_PATH</th>\n",
       "      <th>PRODUCT_NAME</th>\n",
       "      <th>PRORUCT_PRDNO</th>\n",
       "      <th>PRORUCT_BRAND_NO</th>\n",
       "      <th>cate_1</th>\n",
       "      <th>cate_2</th>\n",
       "      <th>cate_3</th>\n",
       "      <th>time_diff</th>\n",
       "    </tr>\n",
       "  </thead>\n",
       "  <tbody>\n",
       "    <tr>\n",
       "      <th>0</th>\n",
       "      <td>20191201</td>\n",
       "      <td>211463454.1545391457.1575127879</td>\n",
       "      <td>36201</td>\n",
       "      <td>2019-12-01 00:31:19</td>\n",
       "      <td>2019-12-01 00:40:44</td>\n",
       "      <td>/kr/product/productDetail?prdNo=20000426021</td>\n",
       "      <td>랑콤 압솔뤼 로즈 필링 드롭</td>\n",
       "      <td>20000426021</td>\n",
       "      <td>10326</td>\n",
       "      <td>10000002</td>\n",
       "      <td>100000005.0</td>\n",
       "      <td>1.000000e+09</td>\n",
       "      <td>0 days 00:09:25.000000000</td>\n",
       "    </tr>\n",
       "    <tr>\n",
       "      <th>1</th>\n",
       "      <td>20191201</td>\n",
       "      <td>211463454.1545391457.1575127879</td>\n",
       "      <td>36201</td>\n",
       "      <td>2019-12-01 00:31:19</td>\n",
       "      <td>2019-12-01 00:44:25</td>\n",
       "      <td>/kr/product/productDetail?prdNo=20000409796</td>\n",
       "      <td>SLG</td>\n",
       "      <td>20000409796</td>\n",
       "      <td>10142</td>\n",
       "      <td>10000010</td>\n",
       "      <td>100000046.0</td>\n",
       "      <td>1.000001e+09</td>\n",
       "      <td>0 days 00:13:06.000000000</td>\n",
       "    </tr>\n",
       "    <tr>\n",
       "      <th>2</th>\n",
       "      <td>20191201</td>\n",
       "      <td>211463454.1545391457.1575127879</td>\n",
       "      <td>36201</td>\n",
       "      <td>2019-12-01 00:31:19</td>\n",
       "      <td>2019-12-01 00:46:56</td>\n",
       "      <td>/kr/product/productDetail?prdNo=20000493587</td>\n",
       "      <td>[면세전용] 뉴 클라리소닉 미아 스마트 핑크</td>\n",
       "      <td>20000493587</td>\n",
       "      <td>17993</td>\n",
       "      <td>10000004</td>\n",
       "      <td>100000017.0</td>\n",
       "      <td>1.000000e+09</td>\n",
       "      <td>0 days 00:15:37.000000000</td>\n",
       "    </tr>\n",
       "  </tbody>\n",
       "</table>\n",
       "</div>"
      ],
      "text/plain": [
       "       DATE                       SESSION_ID    UID    SESSION_STARTTIME  \\\n",
       "0  20191201  211463454.1545391457.1575127879  36201  2019-12-01 00:31:19   \n",
       "1  20191201  211463454.1545391457.1575127879  36201  2019-12-01 00:31:19   \n",
       "2  20191201  211463454.1545391457.1575127879  36201  2019-12-01 00:31:19   \n",
       "\n",
       "        VIEW_STARTTIME                                    PAGE_PATH  \\\n",
       "0  2019-12-01 00:40:44  /kr/product/productDetail?prdNo=20000426021   \n",
       "1  2019-12-01 00:44:25  /kr/product/productDetail?prdNo=20000409796   \n",
       "2  2019-12-01 00:46:56  /kr/product/productDetail?prdNo=20000493587   \n",
       "\n",
       "               PRODUCT_NAME PRORUCT_PRDNO PRORUCT_BRAND_NO    cate_1  \\\n",
       "0           랑콤 압솔뤼 로즈 필링 드롭   20000426021            10326  10000002   \n",
       "1                       SLG   20000409796            10142  10000010   \n",
       "2  [면세전용] 뉴 클라리소닉 미아 스마트 핑크   20000493587            17993  10000004   \n",
       "\n",
       "        cate_2        cate_3                  time_diff  \n",
       "0  100000005.0  1.000000e+09  0 days 00:09:25.000000000  \n",
       "1  100000046.0  1.000001e+09  0 days 00:13:06.000000000  \n",
       "2  100000017.0  1.000000e+09  0 days 00:15:37.000000000  "
      ]
     },
     "execution_count": 2,
     "metadata": {},
     "output_type": "execute_result"
    }
   ],
   "source": [
    "df.head(3)"
   ]
  },
  {
   "cell_type": "code",
   "execution_count": 3,
   "metadata": {},
   "outputs": [],
   "source": [
    "df.set_index(np.arange(len(df)), inplace=True)\n",
    "itemids = df['PRORUCT_PRDNO'].unique()\n",
    "n_items = len(itemids) \n",
    "df = pd.merge(df, pd.DataFrame({'PRORUCT_PRDNO':itemids, 'ItemIdx':np.arange(len(itemids))}), on='PRORUCT_PRDNO', how='inner')\n",
    "sessionids = df['SESSION_ID'].unique()\n",
    "df = pd.merge(df, pd.DataFrame({'SESSION_ID':sessionids, 'SessionIdx':np.arange(len(sessionids))}), on='SESSION_ID', how='inner')"
   ]
  },
  {
   "cell_type": "code",
   "execution_count": 4,
   "metadata": {},
   "outputs": [],
   "source": [
    "df['rating'] = 1 "
   ]
  },
  {
   "cell_type": "code",
   "execution_count": 5,
   "metadata": {},
   "outputs": [],
   "source": [
    "df_prd = df.groupby(['SessionIdx','SESSION_STARTTIME','ItemIdx'])['rating'].agg(['max','sum'])\n",
    "df_prd.reset_index(level=['SessionIdx','SESSION_STARTTIME','ItemIdx'], inplace=True)\n",
    "df_prd.columns = ['SessionIdx','SESSION_STARTTIME','ItemIdx','rating_yn','rating_sum']"
   ]
  },
  {
   "cell_type": "code",
   "execution_count": 6,
   "metadata": {},
   "outputs": [],
   "source": [
    "df_t_e = df_prd[df_prd.SESSION_STARTTIME < '2019-12-20']\n",
    "df_v_e = df_prd[df_prd.SESSION_STARTTIME >= '2019-12-20']"
   ]
  },
  {
   "cell_type": "code",
   "execution_count": 7,
   "metadata": {},
   "outputs": [
    {
     "data": {
      "text/html": [
       "<div>\n",
       "<style scoped>\n",
       "    .dataframe tbody tr th:only-of-type {\n",
       "        vertical-align: middle;\n",
       "    }\n",
       "\n",
       "    .dataframe tbody tr th {\n",
       "        vertical-align: top;\n",
       "    }\n",
       "\n",
       "    .dataframe thead th {\n",
       "        text-align: right;\n",
       "    }\n",
       "</style>\n",
       "<table border=\"1\" class=\"dataframe\">\n",
       "  <thead>\n",
       "    <tr style=\"text-align: right;\">\n",
       "      <th></th>\n",
       "      <th>SessionIdx</th>\n",
       "      <th>SESSION_STARTTIME</th>\n",
       "      <th>ItemIdx</th>\n",
       "      <th>rating_yn</th>\n",
       "      <th>rating_sum</th>\n",
       "    </tr>\n",
       "  </thead>\n",
       "  <tbody>\n",
       "    <tr>\n",
       "      <th>893</th>\n",
       "      <td>43</td>\n",
       "      <td>2019-12-20 00:32:37</td>\n",
       "      <td>0</td>\n",
       "      <td>1</td>\n",
       "      <td>1</td>\n",
       "    </tr>\n",
       "    <tr>\n",
       "      <th>894</th>\n",
       "      <td>43</td>\n",
       "      <td>2019-12-20 00:32:37</td>\n",
       "      <td>4211</td>\n",
       "      <td>1</td>\n",
       "      <td>1</td>\n",
       "    </tr>\n",
       "    <tr>\n",
       "      <th>895</th>\n",
       "      <td>43</td>\n",
       "      <td>2019-12-20 00:32:37</td>\n",
       "      <td>4547</td>\n",
       "      <td>1</td>\n",
       "      <td>1</td>\n",
       "    </tr>\n",
       "  </tbody>\n",
       "</table>\n",
       "</div>"
      ],
      "text/plain": [
       "     SessionIdx    SESSION_STARTTIME  ItemIdx  rating_yn  rating_sum\n",
       "893          43  2019-12-20 00:32:37        0          1           1\n",
       "894          43  2019-12-20 00:32:37     4211          1           1\n",
       "895          43  2019-12-20 00:32:37     4547          1           1"
      ]
     },
     "execution_count": 7,
     "metadata": {},
     "output_type": "execute_result"
    }
   ],
   "source": [
    "df_v_e.head(3)"
   ]
  },
  {
   "cell_type": "code",
   "execution_count": 8,
   "metadata": {},
   "outputs": [
    {
     "data": {
      "text/plain": [
       "(3870162, 5)"
      ]
     },
     "execution_count": 8,
     "metadata": {},
     "output_type": "execute_result"
    }
   ],
   "source": [
    "df_t_e.shape"
   ]
  },
  {
   "cell_type": "code",
   "execution_count": 9,
   "metadata": {},
   "outputs": [
    {
     "data": {
      "text/plain": [
       "(6388664, 5)"
      ]
     },
     "execution_count": 9,
     "metadata": {},
     "output_type": "execute_result"
    }
   ],
   "source": [
    "df_prd.shape"
   ]
  },
  {
   "cell_type": "markdown",
   "metadata": {},
   "source": [
    "# 여기서부터 MF NN "
   ]
  },
  {
   "cell_type": "code",
   "execution_count": 10,
   "metadata": {},
   "outputs": [],
   "source": [
    "import torch\n",
    "import torch.nn as nn\n",
    "import torch.nn.functional as F"
   ]
  },
  {
   "cell_type": "code",
   "execution_count": 11,
   "metadata": {},
   "outputs": [],
   "source": [
    "def evaluate(indices, targets, k=20):\n",
    "    \"\"\"\n",
    "    Evaluates the model using Recall@K, MRR@K scores.\n",
    "    Args:\n",
    "        logits (B,C): torch.LongTensor. The predicted logit for the next items.\n",
    "        targets (B): torch.LongTensor. actual target indices.\n",
    "    Returns:\n",
    "        recall (float): the recall score\n",
    "        mrr (float): the mrr score\n",
    "    \"\"\"\n",
    "    _, indices = torch.topk(indices, k, -1)\n",
    "    recall = get_recall(indices, targets)\n",
    "    mrr = get_mrr(indices, targets)\n",
    "    return recall, mrr"
   ]
  },
  {
   "cell_type": "code",
   "execution_count": 12,
   "metadata": {},
   "outputs": [],
   "source": [
    "class MF(nn.Module):\n",
    "    def __init__(self, num_users, num_items, emb_size=100):\n",
    "        super(MF, self).__init__()\n",
    "        self.user_emb = nn.Embedding(num_users, emb_size)\n",
    "        self.item_emb = nn.Embedding(num_items, emb_size)\n",
    "        self.user_emb.weight.data.uniform_(0, 0.05)\n",
    "        self.item_emb.weight.data.uniform_(0, 0.05)\n",
    "        \n",
    "    def forward(self, u, v):\n",
    "        u = self.user_emb(u)\n",
    "        v = self.item_emb(v)\n",
    "        return (u*v).sum(1)"
   ]
  },
  {
   "cell_type": "code",
   "execution_count": 13,
   "metadata": {},
   "outputs": [
    {
     "name": "stdout",
     "output_type": "stream",
     "text": [
      "1557259 166168\n"
     ]
    }
   ],
   "source": [
    "num_users = len(df_prd.SessionIdx.unique())\n",
    "num_items = len(df_prd.ItemIdx.unique())\n",
    "print(num_users, num_items)"
   ]
  },
  {
   "cell_type": "code",
   "execution_count": 14,
   "metadata": {},
   "outputs": [],
   "source": [
    "model = MF(num_users, num_items, emb_size=100) "
   ]
  },
  {
   "cell_type": "code",
   "execution_count": 34,
   "metadata": {},
   "outputs": [],
   "source": [
    "users = torch.LongTensor(df_t_e.SessionIdx.values)\n",
    "items = torch.LongTensor(df_t_e.ItemIdx.values) "
   ]
  },
  {
   "cell_type": "code",
   "execution_count": 37,
   "metadata": {},
   "outputs": [
    {
     "data": {
      "text/plain": [
       "tensor([0.0594, 0.0644, 0.0641,  ..., 0.0675, 0.0582, 0.0682],\n",
       "       grad_fn=<SumBackward1>)"
      ]
     },
     "execution_count": 37,
     "metadata": {},
     "output_type": "execute_result"
    }
   ],
   "source": [
    "model(users, items)"
   ]
  },
  {
   "cell_type": "code",
   "execution_count": 20,
   "metadata": {},
   "outputs": [],
   "source": [
    "def train_epocs(model, epochs=10, lr=0.01, wd=0.0, unsqueeze=False):\n",
    "    optimizer = torch.optim.Adam(model.parameters(), lr=lr, weight_decay=wd)\n",
    "    model.train()\n",
    "    for i in range(epochs):\n",
    "        users = torch.LongTensor(df_t_e.SessionIdx.values) # .cuda()\n",
    "        items = torch.LongTensor(df_t_e.ItemIdx.values) #.cuda()\n",
    "        ratings = torch.FloatTensor(df_t_e.rating_yn.values) #.cuda()\n",
    "        if unsqueeze:\n",
    "            ratings = ratings.unsqueeze(1)\n",
    "        y_hat = model(users, items)\n",
    "        loss = F.mse_loss(y_hat, ratings)\n",
    "        optimizer.zero_grad()\n",
    "        loss.backward()\n",
    "        optimizer.step()\n",
    "        print(loss.item()) \n",
    "    test_loss(model, unsqueeze)"
   ]
  },
  {
   "cell_type": "code",
   "execution_count": 21,
   "metadata": {},
   "outputs": [
    {
     "name": "stdout",
     "output_type": "stream",
     "text": [
      "torch.Size([3870162])\n",
      "torch.Size([3870162, 1])\n"
     ]
    }
   ],
   "source": [
    "# Here is what unsqueeze does\n",
    "ratings = torch.FloatTensor(df_t_e.rating_yn.values)\n",
    "print(ratings.shape)\n",
    "ratings = ratings.unsqueeze(1) # .cuda()\n",
    "print(ratings.shape)"
   ]
  },
  {
   "cell_type": "code",
   "execution_count": 25,
   "metadata": {},
   "outputs": [],
   "source": [
    "def test_loss(model, unsqueeze=False):\n",
    "    model.eval()\n",
    "    users = torch.LongTensor(df_v_e.SessionIdx.values) #.cuda()\n",
    "    items = torch.LongTensor(df_v_e.ItemIdx.values) #.cuda()\n",
    "    ratings = torch.FloatTensor(df_v_e.rating_yn.values) #.cuda()\n",
    "    if unsqueeze:\n",
    "        ratings = ratings.unsqueeze(1)\n",
    "    y_hat = model(users, items)\n",
    "    loss = F.mse_loss(y_hat, ratings)\n",
    "    \n",
    "        \n",
    "    print(\"test loss %.3f \" % loss.item())"
   ]
  },
  {
   "cell_type": "code",
   "execution_count": 26,
   "metadata": {},
   "outputs": [
    {
     "name": "stdout",
     "output_type": "stream",
     "text": [
      "0.1086067482829094\n",
      "0.41446349024772644\n",
      "0.1664888560771942\n",
      "0.132952019572258\n",
      "0.1637687236070633\n",
      "0.060392703860998154\n",
      "0.07536415010690689\n",
      "0.11718067526817322\n",
      "0.09651824086904526\n",
      "0.049586109817028046\n",
      "test loss 0.501 \n"
     ]
    }
   ],
   "source": [
    "train_epocs(model, epochs=10, lr=0.1)"
   ]
  },
  {
   "cell_type": "code",
   "execution_count": 19,
   "metadata": {},
   "outputs": [
    {
     "ename": "IndexError",
     "evalue": "Dimension out of range (expected to be in range of [-1, 0], but got 1)",
     "output_type": "error",
     "traceback": [
      "\u001b[1;31m---------------------------------------------------------------------------\u001b[0m",
      "\u001b[1;31mIndexError\u001b[0m                                Traceback (most recent call last)",
      "\u001b[1;32m<ipython-input-19-b49f1bc3152d>\u001b[0m in \u001b[0;36m<module>\u001b[1;34m\u001b[0m\n\u001b[1;32m----> 1\u001b[1;33m \u001b[0mtrain_epocs\u001b[0m\u001b[1;33m(\u001b[0m\u001b[0mmodel\u001b[0m\u001b[1;33m,\u001b[0m \u001b[0mepochs\u001b[0m\u001b[1;33m=\u001b[0m\u001b[1;36m15\u001b[0m\u001b[1;33m,\u001b[0m \u001b[0mlr\u001b[0m\u001b[1;33m=\u001b[0m\u001b[1;36m0.01\u001b[0m\u001b[1;33m)\u001b[0m\u001b[1;33m\u001b[0m\u001b[1;33m\u001b[0m\u001b[0m\n\u001b[0m",
      "\u001b[1;32m<ipython-input-15-46a474cbd2a6>\u001b[0m in \u001b[0;36mtrain_epocs\u001b[1;34m(model, epochs, lr, wd, unsqueeze)\u001b[0m\n\u001b[0;32m      8\u001b[0m         \u001b[1;32mif\u001b[0m \u001b[0munsqueeze\u001b[0m\u001b[1;33m:\u001b[0m\u001b[1;33m\u001b[0m\u001b[1;33m\u001b[0m\u001b[0m\n\u001b[0;32m      9\u001b[0m             \u001b[0mratings\u001b[0m \u001b[1;33m=\u001b[0m \u001b[0mratings\u001b[0m\u001b[1;33m.\u001b[0m\u001b[0munsqueeze\u001b[0m\u001b[1;33m(\u001b[0m\u001b[1;36m1\u001b[0m\u001b[1;33m)\u001b[0m\u001b[1;33m\u001b[0m\u001b[1;33m\u001b[0m\u001b[0m\n\u001b[1;32m---> 10\u001b[1;33m         \u001b[0my_hat\u001b[0m \u001b[1;33m=\u001b[0m \u001b[0mmodel\u001b[0m\u001b[1;33m(\u001b[0m\u001b[0musers\u001b[0m\u001b[1;33m,\u001b[0m \u001b[0mitems\u001b[0m\u001b[1;33m)\u001b[0m\u001b[1;33m.\u001b[0m\u001b[0msum\u001b[0m\u001b[1;33m(\u001b[0m\u001b[1;36m1\u001b[0m\u001b[1;33m)\u001b[0m\u001b[1;33m\u001b[0m\u001b[1;33m\u001b[0m\u001b[0m\n\u001b[0m\u001b[0;32m     11\u001b[0m         \u001b[0mloss\u001b[0m \u001b[1;33m=\u001b[0m \u001b[0mF\u001b[0m\u001b[1;33m.\u001b[0m\u001b[0mmse_loss\u001b[0m\u001b[1;33m(\u001b[0m\u001b[0my_hat\u001b[0m\u001b[1;33m,\u001b[0m \u001b[0mratings\u001b[0m\u001b[1;33m)\u001b[0m\u001b[1;33m\u001b[0m\u001b[1;33m\u001b[0m\u001b[0m\n\u001b[0;32m     12\u001b[0m         \u001b[0moptimizer\u001b[0m\u001b[1;33m.\u001b[0m\u001b[0mzero_grad\u001b[0m\u001b[1;33m(\u001b[0m\u001b[1;33m)\u001b[0m\u001b[1;33m\u001b[0m\u001b[1;33m\u001b[0m\u001b[0m\n",
      "\u001b[1;31mIndexError\u001b[0m: Dimension out of range (expected to be in range of [-1, 0], but got 1)"
     ]
    }
   ],
   "source": [
    "train_epocs(model, epochs=15, lr=0.01)"
   ]
  },
  {
   "cell_type": "code",
   "execution_count": 21,
   "metadata": {},
   "outputs": [
    {
     "name": "stdout",
     "output_type": "stream",
     "text": [
      "0.010063224472105503\n",
      "0.007094113621860743\n",
      "0.006207331549376249\n",
      "0.005528980400413275\n",
      "0.004899557679891586\n",
      "0.004399602301418781\n",
      "0.004090767819434404\n",
      "0.003926247823983431\n",
      "0.003766315523535013\n",
      "0.003501740749925375\n",
      "0.0031549534760415554\n",
      "0.0028146523982286453\n",
      "0.002530517289415002\n",
      "0.0022846271749585867\n",
      "0.002047985326498747\n",
      "test loss 0.572 \n"
     ]
    }
   ],
   "source": [
    "train_epocs(model, epochs=15, lr=0.01)"
   ]
  }
 ],
 "metadata": {
  "kernelspec": {
   "display_name": "Python 3",
   "language": "python",
   "name": "python3"
  },
  "language_info": {
   "codemirror_mode": {
    "name": "ipython",
    "version": 3
   },
   "file_extension": ".py",
   "mimetype": "text/x-python",
   "name": "python",
   "nbconvert_exporter": "python",
   "pygments_lexer": "ipython3",
   "version": "3.7.3"
  }
 },
 "nbformat": 4,
 "nbformat_minor": 4
}
